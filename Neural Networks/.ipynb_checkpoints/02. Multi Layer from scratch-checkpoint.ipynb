{
 "cells": [
  {
   "cell_type": "markdown",
   "id": "63ce849e",
   "metadata": {},
   "source": [
    "# Import Required Libraries"
   ]
  },
  {
   "cell_type": "code",
   "execution_count": 476,
   "id": "a4fe64aa",
   "metadata": {},
   "outputs": [],
   "source": [
    "import numpy as np\n",
    "import pandas as pd\n",
    "import os\n",
    "import math\n",
    "from sklearn.model_selection import train_test_split"
   ]
  },
  {
   "cell_type": "markdown",
   "id": "88de377a",
   "metadata": {},
   "source": [
    "# Read Data"
   ]
  },
  {
   "cell_type": "code",
   "execution_count": 477,
   "id": "f9ec9a08",
   "metadata": {},
   "outputs": [],
   "source": [
    "iris_data = pd.read_csv(os.getcwd()+\"/Data/Iris.csv\")\n",
    "# iris_data = iris_data_.head(100)\n",
    "# iris_data_test = iris_data_.tail(50)"
   ]
  },
  {
   "cell_type": "code",
   "execution_count": 478,
   "id": "23e078ae",
   "metadata": {},
   "outputs": [],
   "source": [
    "def normalization(iris_data):\n",
    "    species_dic = {'Iris-setosa':[1,0,0], 'Iris-versicolor':[0,1,0], 'Iris-virginica':[0,0,1]}\n",
    "    iris_data['Species_'] = iris_data['Species'].map(lambda x: species_dic[x])\n",
    "    #Normalization\n",
    "    for col in ['SepalLengthCm', 'SepalWidthCm', 'PetalLengthCm', 'PetalWidthCm']:\n",
    "        iris_data[col] = (iris_data[col] - iris_data[col].min())/ (iris_data[col].max() - iris_data[col].min())\n",
    "    return iris_data"
   ]
  },
  {
   "cell_type": "code",
   "execution_count": 479,
   "id": "6c27839e",
   "metadata": {},
   "outputs": [],
   "source": [
    "# iris_data = normalization(iris_data)\n",
    "# iris_data_test = normalization(iris_data_test)"
   ]
  },
  {
   "cell_type": "markdown",
   "id": "4c7f2cc0",
   "metadata": {},
   "source": [
    "# Three Layer Neural Network"
   ]
  },
  {
   "cell_type": "code",
   "execution_count": 480,
   "id": "8b0ad008",
   "metadata": {},
   "outputs": [],
   "source": [
    "Weights_layer1 = np.random.randint(1,2,32).reshape((4, 8))\n",
    "Weights_layer2 = np.random.randint(1,2,40).reshape((8, 5))\n",
    "Weights_layer3 = np.random.randint(1,2,15).reshape((5, 3))\n",
    "\n",
    "\n",
    "Bias_layer1 = np.random.randint(1,2, 8).reshape((1, 8))\n",
    "Bias_layer2 = np.random.randint(1,2, 5).reshape((1, 5))\n",
    "Bias_layer3 = np.random.randint(1,2, 3).reshape((1, 3))"
   ]
  },
  {
   "cell_type": "code",
   "execution_count": 489,
   "id": "d98b5179",
   "metadata": {},
   "outputs": [],
   "source": [
    "def activation_function(x):\n",
    "    return 1/(1+np.exp(-x))"
   ]
  },
  {
   "cell_type": "code",
   "execution_count": 490,
   "id": "699532df",
   "metadata": {},
   "outputs": [],
   "source": [
    "def activation_function_der(x):\n",
    "    return np.multiply(activation_function(x),(1-activation_function(x)))"
   ]
  },
  {
   "cell_type": "code",
   "execution_count": 483,
   "id": "e16abaad",
   "metadata": {},
   "outputs": [],
   "source": [
    "def feed_farword(X):\n",
    "    output_layer0 = X\n",
    "    output_layer1 = activation_function(np.matmul(X, Weights_layer1) + Bias_layer1)  \n",
    "    output_layer2 = activation_function(np.matmul(output_layer1, Weights_layer2) + Bias_layer2) # (1,8) * (8,5) + (1,5)\n",
    "    output_layer3 = activation_function(np.matmul(output_layer2, Weights_layer3) + Bias_layer3) # (1,5) * (5,3) + (1,3)\n",
    "    return (output_layer0, output_layer1, output_layer2, output_layer3)"
   ]
  },
  {
   "cell_type": "code",
   "execution_count": 484,
   "id": "2c632ecd",
   "metadata": {},
   "outputs": [],
   "source": [
    "def back_propagation(Y, output_layer0, output_layer1, output_layer2, output_layer3):\n",
    "    global Weights_layer1, Weights_layer2, Weights_layer3, Bias_layer1, Bias_layer2, Bias_layer3\n",
    "    error = 0.33*(Y - output_layer3)**2\n",
    "    gradient_layer3 = np.multiply(-0.66*(Y - output_layer3), activation_function_der(output_layer3)) #(1,3)\n",
    "    Weights_layer3 = Weights_layer3 - learning_rate * np.matmul(gradient_layer3.T, output_layer2).T\n",
    "    Bias_layer3 = Bias_layer3 - learning_rate * gradient_layer3\n",
    "    gradient_layer2 = np.multiply(np.matmul(gradient_layer3, Weights_layer3.T), activation_function_der(output_layer2))\n",
    "    Weights_layer2 = Weights_layer2 - learning_rate * np.matmul(gradient_layer2.T, output_layer1).T\n",
    "    Bias_layer2 = Bias_layer2 - learning_rate * gradient_layer2\n",
    "    gradient_layer1 = np.multiply(np.matmul(gradient_layer2, Weights_layer2.T), activation_function_der(output_layer1))\n",
    "#     print(Weights_layer1.shape, gradient_layer1.shape, output_layer0.shape)\n",
    "    Weights_layer1 = Weights_layer1 - learning_rate * np.matmul(gradient_layer1.T, output_layer0).T\n",
    "    Bias_layer1 = Bias_layer1 - learning_rate * gradient_layer1\n",
    "    return error"
   ]
  },
  {
   "cell_type": "code",
   "execution_count": 485,
   "id": "54856c0e",
   "metadata": {},
   "outputs": [
    {
     "ename": "KeyError",
     "evalue": "\"None of [Index(['Species_'], dtype='object')] are in the [columns]\"",
     "output_type": "error",
     "traceback": [
      "\u001b[1;31m---------------------------------------------------------------------------\u001b[0m",
      "\u001b[1;31mKeyError\u001b[0m                                  Traceback (most recent call last)",
      "Cell \u001b[1;32mIn[485], line 2\u001b[0m\n\u001b[0;32m      1\u001b[0m X \u001b[38;5;241m=\u001b[39m iris_data[[\u001b[38;5;124m'\u001b[39m\u001b[38;5;124mSepalLengthCm\u001b[39m\u001b[38;5;124m'\u001b[39m, \u001b[38;5;124m'\u001b[39m\u001b[38;5;124mSepalWidthCm\u001b[39m\u001b[38;5;124m'\u001b[39m, \u001b[38;5;124m'\u001b[39m\u001b[38;5;124mPetalLengthCm\u001b[39m\u001b[38;5;124m'\u001b[39m, \u001b[38;5;124m'\u001b[39m\u001b[38;5;124mPetalWidthCm\u001b[39m\u001b[38;5;124m'\u001b[39m]]\n\u001b[1;32m----> 2\u001b[0m Y \u001b[38;5;241m=\u001b[39m iris_data[[\u001b[38;5;124m'\u001b[39m\u001b[38;5;124mSpecies_\u001b[39m\u001b[38;5;124m'\u001b[39m]]\n\u001b[0;32m      3\u001b[0m \u001b[38;5;28mprint\u001b[39m(iris_data\u001b[38;5;241m.\u001b[39mshape)\n\u001b[0;32m      4\u001b[0m X_train, X_test, y_train, y_test \u001b[38;5;241m=\u001b[39m train_test_split(X, Y, test_size\u001b[38;5;241m=\u001b[39m\u001b[38;5;241m0.3\u001b[39m, random_state\u001b[38;5;241m=\u001b[39m\u001b[38;5;241m100\u001b[39m)\n",
      "File \u001b[1;32m~\\anaconda3\\Lib\\site-packages\\pandas\\core\\frame.py:3767\u001b[0m, in \u001b[0;36mDataFrame.__getitem__\u001b[1;34m(self, key)\u001b[0m\n\u001b[0;32m   3765\u001b[0m     \u001b[38;5;28;01mif\u001b[39;00m is_iterator(key):\n\u001b[0;32m   3766\u001b[0m         key \u001b[38;5;241m=\u001b[39m \u001b[38;5;28mlist\u001b[39m(key)\n\u001b[1;32m-> 3767\u001b[0m     indexer \u001b[38;5;241m=\u001b[39m \u001b[38;5;28mself\u001b[39m\u001b[38;5;241m.\u001b[39mcolumns\u001b[38;5;241m.\u001b[39m_get_indexer_strict(key, \u001b[38;5;124m\"\u001b[39m\u001b[38;5;124mcolumns\u001b[39m\u001b[38;5;124m\"\u001b[39m)[\u001b[38;5;241m1\u001b[39m]\n\u001b[0;32m   3769\u001b[0m \u001b[38;5;66;03m# take() does not accept boolean indexers\u001b[39;00m\n\u001b[0;32m   3770\u001b[0m \u001b[38;5;28;01mif\u001b[39;00m \u001b[38;5;28mgetattr\u001b[39m(indexer, \u001b[38;5;124m\"\u001b[39m\u001b[38;5;124mdtype\u001b[39m\u001b[38;5;124m\"\u001b[39m, \u001b[38;5;28;01mNone\u001b[39;00m) \u001b[38;5;241m==\u001b[39m \u001b[38;5;28mbool\u001b[39m:\n",
      "File \u001b[1;32m~\\anaconda3\\Lib\\site-packages\\pandas\\core\\indexes\\base.py:5877\u001b[0m, in \u001b[0;36mIndex._get_indexer_strict\u001b[1;34m(self, key, axis_name)\u001b[0m\n\u001b[0;32m   5874\u001b[0m \u001b[38;5;28;01melse\u001b[39;00m:\n\u001b[0;32m   5875\u001b[0m     keyarr, indexer, new_indexer \u001b[38;5;241m=\u001b[39m \u001b[38;5;28mself\u001b[39m\u001b[38;5;241m.\u001b[39m_reindex_non_unique(keyarr)\n\u001b[1;32m-> 5877\u001b[0m \u001b[38;5;28mself\u001b[39m\u001b[38;5;241m.\u001b[39m_raise_if_missing(keyarr, indexer, axis_name)\n\u001b[0;32m   5879\u001b[0m keyarr \u001b[38;5;241m=\u001b[39m \u001b[38;5;28mself\u001b[39m\u001b[38;5;241m.\u001b[39mtake(indexer)\n\u001b[0;32m   5880\u001b[0m \u001b[38;5;28;01mif\u001b[39;00m \u001b[38;5;28misinstance\u001b[39m(key, Index):\n\u001b[0;32m   5881\u001b[0m     \u001b[38;5;66;03m# GH 42790 - Preserve name from an Index\u001b[39;00m\n",
      "File \u001b[1;32m~\\anaconda3\\Lib\\site-packages\\pandas\\core\\indexes\\base.py:5938\u001b[0m, in \u001b[0;36mIndex._raise_if_missing\u001b[1;34m(self, key, indexer, axis_name)\u001b[0m\n\u001b[0;32m   5936\u001b[0m     \u001b[38;5;28;01mif\u001b[39;00m use_interval_msg:\n\u001b[0;32m   5937\u001b[0m         key \u001b[38;5;241m=\u001b[39m \u001b[38;5;28mlist\u001b[39m(key)\n\u001b[1;32m-> 5938\u001b[0m     \u001b[38;5;28;01mraise\u001b[39;00m \u001b[38;5;167;01mKeyError\u001b[39;00m(\u001b[38;5;124mf\u001b[39m\u001b[38;5;124m\"\u001b[39m\u001b[38;5;124mNone of [\u001b[39m\u001b[38;5;132;01m{\u001b[39;00mkey\u001b[38;5;132;01m}\u001b[39;00m\u001b[38;5;124m] are in the [\u001b[39m\u001b[38;5;132;01m{\u001b[39;00maxis_name\u001b[38;5;132;01m}\u001b[39;00m\u001b[38;5;124m]\u001b[39m\u001b[38;5;124m\"\u001b[39m)\n\u001b[0;32m   5940\u001b[0m not_found \u001b[38;5;241m=\u001b[39m \u001b[38;5;28mlist\u001b[39m(ensure_index(key)[missing_mask\u001b[38;5;241m.\u001b[39mnonzero()[\u001b[38;5;241m0\u001b[39m]]\u001b[38;5;241m.\u001b[39munique())\n\u001b[0;32m   5941\u001b[0m \u001b[38;5;28;01mraise\u001b[39;00m \u001b[38;5;167;01mKeyError\u001b[39;00m(\u001b[38;5;124mf\u001b[39m\u001b[38;5;124m\"\u001b[39m\u001b[38;5;132;01m{\u001b[39;00mnot_found\u001b[38;5;132;01m}\u001b[39;00m\u001b[38;5;124m not in index\u001b[39m\u001b[38;5;124m\"\u001b[39m)\n",
      "\u001b[1;31mKeyError\u001b[0m: \"None of [Index(['Species_'], dtype='object')] are in the [columns]\""
     ]
    }
   ],
   "source": [
    "X = iris_data[['SepalLengthCm', 'SepalWidthCm', 'PetalLengthCm', 'PetalWidthCm']]\n",
    "Y = iris_data[['Species_']]\n",
    "print(iris_data.shape)\n",
    "X_train, X_test, y_train, y_test = train_test_split(X, Y, test_size=0.3, random_state=100)\n",
    "\n",
    "\n",
    "X=np.array(X_train) #(150, 4)\n",
    "Y = y_train.values\n",
    "Y = [i[0] for i in Y]\n",
    "Y = np.array(Y) # (150,3)"
   ]
  },
  {
   "cell_type": "code",
   "execution_count": null,
   "id": "fa503f4d",
   "metadata": {},
   "outputs": [],
   "source": [
    "errors = []\n",
    "epoch = 1000\n",
    "learning_rate = 0.01\n",
    "for i in range(0, epoch):\n",
    "    if i%100==0:\n",
    "        print(error)\n",
    "#         print(Bias_layer1.shape, Bias_layer2.shape, Bias_layer3.shape,)\n",
    "#         print(Weights_layer1.shape, Weights_layer2.shape, Weights_layer3.shape,)\n",
    "    for i in range(0, X.shape[0]):\n",
    "        output_layer0, output_layer1, output_layer2, output_layer3 = feed_farword(X[i,].reshape((1, 4)))\n",
    "#         print(output_layer0.shape, output_layer1.shape, output_layer2.shape, output_layer3.shape)\n",
    "        error = back_propagation(Y[i,], output_layer0, output_layer1, output_layer2, output_layer3)"
   ]
  },
  {
   "cell_type": "code",
   "execution_count": null,
   "id": "f9ab3d96",
   "metadata": {},
   "outputs": [],
   "source": [
    "X=np.array(X_train) #(150, 4)\n",
    "Y = y_train.values\n",
    "Y = [i[0] for i in Y]\n",
    "Y = np.array(Y) # (150,3)"
   ]
  },
  {
   "cell_type": "code",
   "execution_count": null,
   "id": "b2429d33",
   "metadata": {},
   "outputs": [],
   "source": [
    "output_layer0, output_layer1, output_layer2, output_layer3 = feed_farword(X)"
   ]
  },
  {
   "cell_type": "code",
   "execution_count": null,
   "id": "9b7a8221",
   "metadata": {},
   "outputs": [],
   "source": [
    "X_train['Predicted_Species'] = \"\"\n",
    "X_train = X_train.reset_index(drop=True)\n",
    "for i in range(0, output_layer3.shape[0]):\n",
    "    X_train.loc[i, 'Predicted_Species'] = list(species_dic.keys())[np.argmax(output_layer3[i])]"
   ]
  },
  {
   "cell_type": "code",
   "execution_count": null,
   "id": "fecbf819",
   "metadata": {},
   "outputs": [],
   "source": [
    "print(X_test.shape, X_train.shape)"
   ]
  },
  {
   "cell_type": "code",
   "execution_count": 432,
   "id": "77e83842",
   "metadata": {},
   "outputs": [
    {
     "data": {
      "text/plain": [
       "array(['Iris-versicolor'], dtype=object)"
      ]
     },
     "execution_count": 432,
     "metadata": {},
     "output_type": "execute_result"
    }
   ],
   "source": [
    "X_train['Predicted_Species'].unique()"
   ]
  },
  {
   "cell_type": "code",
   "execution_count": 431,
   "id": "efc4c3b4",
   "metadata": {},
   "outputs": [
    {
     "ename": "KeyError",
     "evalue": "'Flag'",
     "output_type": "error",
     "traceback": [
      "\u001b[1;31m---------------------------------------------------------------------------\u001b[0m",
      "\u001b[1;31mKeyError\u001b[0m                                  Traceback (most recent call last)",
      "File \u001b[1;32m~\\anaconda3\\Lib\\site-packages\\pandas\\core\\indexes\\base.py:3653\u001b[0m, in \u001b[0;36mIndex.get_loc\u001b[1;34m(self, key)\u001b[0m\n\u001b[0;32m   3652\u001b[0m \u001b[38;5;28;01mtry\u001b[39;00m:\n\u001b[1;32m-> 3653\u001b[0m     \u001b[38;5;28;01mreturn\u001b[39;00m \u001b[38;5;28mself\u001b[39m\u001b[38;5;241m.\u001b[39m_engine\u001b[38;5;241m.\u001b[39mget_loc(casted_key)\n\u001b[0;32m   3654\u001b[0m \u001b[38;5;28;01mexcept\u001b[39;00m \u001b[38;5;167;01mKeyError\u001b[39;00m \u001b[38;5;28;01mas\u001b[39;00m err:\n",
      "File \u001b[1;32m~\\anaconda3\\Lib\\site-packages\\pandas\\_libs\\index.pyx:147\u001b[0m, in \u001b[0;36mpandas._libs.index.IndexEngine.get_loc\u001b[1;34m()\u001b[0m\n",
      "File \u001b[1;32m~\\anaconda3\\Lib\\site-packages\\pandas\\_libs\\index.pyx:176\u001b[0m, in \u001b[0;36mpandas._libs.index.IndexEngine.get_loc\u001b[1;34m()\u001b[0m\n",
      "File \u001b[1;32mpandas\\_libs\\hashtable_class_helper.pxi:7080\u001b[0m, in \u001b[0;36mpandas._libs.hashtable.PyObjectHashTable.get_item\u001b[1;34m()\u001b[0m\n",
      "File \u001b[1;32mpandas\\_libs\\hashtable_class_helper.pxi:7088\u001b[0m, in \u001b[0;36mpandas._libs.hashtable.PyObjectHashTable.get_item\u001b[1;34m()\u001b[0m\n",
      "\u001b[1;31mKeyError\u001b[0m: 'Flag'",
      "\nThe above exception was the direct cause of the following exception:\n",
      "\u001b[1;31mKeyError\u001b[0m                                  Traceback (most recent call last)",
      "Cell \u001b[1;32mIn[431], line 1\u001b[0m\n\u001b[1;32m----> 1\u001b[0m iris_data[iris_data[\u001b[38;5;124m'\u001b[39m\u001b[38;5;124mFlag\u001b[39m\u001b[38;5;124m'\u001b[39m]\u001b[38;5;241m==\u001b[39m\u001b[38;5;28;01mFalse\u001b[39;00m]\n",
      "File \u001b[1;32m~\\anaconda3\\Lib\\site-packages\\pandas\\core\\frame.py:3761\u001b[0m, in \u001b[0;36mDataFrame.__getitem__\u001b[1;34m(self, key)\u001b[0m\n\u001b[0;32m   3759\u001b[0m \u001b[38;5;28;01mif\u001b[39;00m \u001b[38;5;28mself\u001b[39m\u001b[38;5;241m.\u001b[39mcolumns\u001b[38;5;241m.\u001b[39mnlevels \u001b[38;5;241m>\u001b[39m \u001b[38;5;241m1\u001b[39m:\n\u001b[0;32m   3760\u001b[0m     \u001b[38;5;28;01mreturn\u001b[39;00m \u001b[38;5;28mself\u001b[39m\u001b[38;5;241m.\u001b[39m_getitem_multilevel(key)\n\u001b[1;32m-> 3761\u001b[0m indexer \u001b[38;5;241m=\u001b[39m \u001b[38;5;28mself\u001b[39m\u001b[38;5;241m.\u001b[39mcolumns\u001b[38;5;241m.\u001b[39mget_loc(key)\n\u001b[0;32m   3762\u001b[0m \u001b[38;5;28;01mif\u001b[39;00m is_integer(indexer):\n\u001b[0;32m   3763\u001b[0m     indexer \u001b[38;5;241m=\u001b[39m [indexer]\n",
      "File \u001b[1;32m~\\anaconda3\\Lib\\site-packages\\pandas\\core\\indexes\\base.py:3655\u001b[0m, in \u001b[0;36mIndex.get_loc\u001b[1;34m(self, key)\u001b[0m\n\u001b[0;32m   3653\u001b[0m     \u001b[38;5;28;01mreturn\u001b[39;00m \u001b[38;5;28mself\u001b[39m\u001b[38;5;241m.\u001b[39m_engine\u001b[38;5;241m.\u001b[39mget_loc(casted_key)\n\u001b[0;32m   3654\u001b[0m \u001b[38;5;28;01mexcept\u001b[39;00m \u001b[38;5;167;01mKeyError\u001b[39;00m \u001b[38;5;28;01mas\u001b[39;00m err:\n\u001b[1;32m-> 3655\u001b[0m     \u001b[38;5;28;01mraise\u001b[39;00m \u001b[38;5;167;01mKeyError\u001b[39;00m(key) \u001b[38;5;28;01mfrom\u001b[39;00m \u001b[38;5;21;01merr\u001b[39;00m\n\u001b[0;32m   3656\u001b[0m \u001b[38;5;28;01mexcept\u001b[39;00m \u001b[38;5;167;01mTypeError\u001b[39;00m:\n\u001b[0;32m   3657\u001b[0m     \u001b[38;5;66;03m# If we have a listlike key, _check_indexing_error will raise\u001b[39;00m\n\u001b[0;32m   3658\u001b[0m     \u001b[38;5;66;03m#  InvalidIndexError. Otherwise we fall through and re-raise\u001b[39;00m\n\u001b[0;32m   3659\u001b[0m     \u001b[38;5;66;03m#  the TypeError.\u001b[39;00m\n\u001b[0;32m   3660\u001b[0m     \u001b[38;5;28mself\u001b[39m\u001b[38;5;241m.\u001b[39m_check_indexing_error(key)\n",
      "\u001b[1;31mKeyError\u001b[0m: 'Flag'"
     ]
    }
   ],
   "source": [
    "iris_data[iris_data['Flag']==False]"
   ]
  },
  {
   "cell_type": "code",
   "execution_count": null,
   "id": "9c26edc3",
   "metadata": {},
   "outputs": [],
   "source": [
    "X=np.array(X_test) #(150, 4)\n",
    "Y = y_test.values\n",
    "Y = [i[0] for i in Y]\n",
    "Y = np.array(Y) # (150,3)"
   ]
  },
  {
   "cell_type": "code",
   "execution_count": null,
   "id": "5ed809bc",
   "metadata": {},
   "outputs": [],
   "source": [
    "output_layer0, output_layer1, output_layer2, output_layer3 = feed_farword(X)"
   ]
  },
  {
   "cell_type": "code",
   "execution_count": null,
   "id": "f047c9c0",
   "metadata": {},
   "outputs": [],
   "source": [
    "iris_data_test['Predicted_Species'] = \"\"\n",
    "for i in range(0, output_layer3.shape[0]):\n",
    "    iris_data_test.loc[i, 'Predicted_Species'] = list(species_dic.keys())[np.argmax(output_layer3[i])]\n",
    "iris_data_test['Flag'] = (iris_data_test['Predicted_Species']==iris_data_test['Species'])\n",
    "iris_data_test[iris_data_test['Flag']==False]"
   ]
  },
  {
   "cell_type": "code",
   "execution_count": null,
   "id": "514e74cb",
   "metadata": {},
   "outputs": [],
   "source": []
  }
 ],
 "metadata": {
  "kernelspec": {
   "display_name": "Python 3 (ipykernel)",
   "language": "python",
   "name": "python3"
  },
  "language_info": {
   "codemirror_mode": {
    "name": "ipython",
    "version": 3
   },
   "file_extension": ".py",
   "mimetype": "text/x-python",
   "name": "python",
   "nbconvert_exporter": "python",
   "pygments_lexer": "ipython3",
   "version": "3.11.5"
  }
 },
 "nbformat": 4,
 "nbformat_minor": 5
}
