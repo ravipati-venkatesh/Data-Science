{
 "cells": [
  {
   "cell_type": "code",
   "execution_count": 43,
   "id": "2e1e64bb",
   "metadata": {},
   "outputs": [],
   "source": [
    "import numpy as np\n",
    "import pandas as pd\n",
    "import os"
   ]
  },
  {
   "cell_type": "code",
   "execution_count": 44,
   "id": "0833cb3f",
   "metadata": {},
   "outputs": [],
   "source": [
    "X1 = np.random.randint(10, 20, 10)\n",
    "X2 = np.random.randint(1, 10, 10)\n",
    "X3 = np.random.randint(30, 40, 10)"
   ]
  },
  {
   "cell_type": "code",
   "execution_count": 45,
   "id": "f4eff94b",
   "metadata": {},
   "outputs": [],
   "source": [
    "Y = 2*X1+3*X2+X3+5"
   ]
  },
  {
   "cell_type": "markdown",
   "id": "9aa5b813",
   "metadata": {},
   "source": [
    "# One Hidden Layer Feed forward neural Network"
   ]
  },
  {
   "cell_type": "code",
   "execution_count": 46,
   "id": "7cf7ce46",
   "metadata": {},
   "outputs": [],
   "source": [
    "Weights = np.random.randint(10, 50, 4)"
   ]
  },
  {
   "cell_type": "code",
   "execution_count": 47,
   "id": "bca7b0f8",
   "metadata": {},
   "outputs": [
    {
     "data": {
      "text/plain": [
       "(4,)"
      ]
     },
     "execution_count": 47,
     "metadata": {},
     "output_type": "execute_result"
    }
   ],
   "source": [
    "Weights.shape"
   ]
  },
  {
   "cell_type": "code",
   "execution_count": 48,
   "id": "4669be85",
   "metadata": {},
   "outputs": [],
   "source": [
    "# shape of X was 10*4\n",
    "X = np.array([X1,X2,X3,np.ones([10,])])"
   ]
  },
  {
   "cell_type": "code",
   "execution_count": 49,
   "id": "dfeb64c5",
   "metadata": {},
   "outputs": [
    {
     "data": {
      "text/plain": [
       "(4, 10)"
      ]
     },
     "execution_count": 49,
     "metadata": {},
     "output_type": "execute_result"
    }
   ],
   "source": [
    "X.shape"
   ]
  },
  {
   "cell_type": "code",
   "execution_count": 50,
   "id": "fa105b5c",
   "metadata": {},
   "outputs": [
    {
     "name": "stdout",
     "output_type": "stream",
     "text": [
      "[42 15 22 40]\n",
      "[42 15 22 40]\n",
      "[ 1.89931308  3.12351138  0.62445893 18.21221313]\n",
      "[ 1.96107723  3.04774607  0.85482626 10.10747446]\n",
      "[1.98495354 3.0184573  0.94387987 6.9744077 ]\n",
      "[1.99418346 3.00713508 0.97830552 5.76325115]\n",
      "[1.99775149 3.00275822 0.99161352 5.29505169]\n",
      "[1.99913079 3.00106625 0.99675802 5.11405878]\n",
      "[1.99966399 3.00041218 0.99874674 5.04409196]\n",
      "[1.99987011 3.00015934 0.99951552 5.01704473]\n",
      "[1.99994979 3.0000616  0.99981272 5.00658902]\n",
      "[1.99998059 3.00002381 0.9999276  5.00254713]\n"
     ]
    }
   ],
   "source": [
    "errors = []\n",
    "weights_ = []\n",
    "epoch = 10000000\n",
    "lr = 0.00001\n",
    "print(Weights)\n",
    "for i in range(0, epoch):\n",
    "    if i%1000000 == 0:\n",
    "        print(Weights)\n",
    "    error = (Y - np.matmul(Weights.T, X))**2\n",
    "    dEdW = -2*np.matmul(X, (Y - np.matmul(Weights.T, X).T))\n",
    "    Weights = Weights - lr*dEdW\n",
    "    errors.append(error.mean())\n",
    "    weights_.append(Weights)\n",
    "print(Weights)"
   ]
  },
  {
   "cell_type": "code",
   "execution_count": 51,
   "id": "76fc3703",
   "metadata": {},
   "outputs": [
    {
     "data": {
      "text/plain": [
       "array([1.20914055e-07, 1.33445656e-08, 3.24297525e-08, 1.01682092e-07,\n",
       "       3.77473124e-10, 6.04460552e-09, 6.06334894e-09, 1.02967970e-08,\n",
       "       1.95098986e-09, 1.55064353e-08])"
      ]
     },
     "execution_count": 51,
     "metadata": {},
     "output_type": "execute_result"
    }
   ],
   "source": [
    "error"
   ]
  },
  {
   "cell_type": "code",
   "execution_count": 52,
   "id": "02eede91",
   "metadata": {},
   "outputs": [
    {
     "data": {
      "text/plain": [
       "array([-1.84489681e-06,  2.26311272e-06, -6.88107653e-06,  2.42088758e-04])"
      ]
     },
     "execution_count": 52,
     "metadata": {},
     "output_type": "execute_result"
    }
   ],
   "source": [
    "dEdW"
   ]
  }
 ],
 "metadata": {
  "kernelspec": {
   "display_name": "Python 3 (ipykernel)",
   "language": "python",
   "name": "python3"
  },
  "language_info": {
   "codemirror_mode": {
    "name": "ipython",
    "version": 3
   },
   "file_extension": ".py",
   "mimetype": "text/x-python",
   "name": "python",
   "nbconvert_exporter": "python",
   "pygments_lexer": "ipython3",
   "version": "3.11.5"
  }
 },
 "nbformat": 4,
 "nbformat_minor": 5
}
