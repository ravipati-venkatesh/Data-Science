{
 "cells": [
  {
   "cell_type": "code",
   "execution_count": 1,
   "id": "0bec92f5",
   "metadata": {},
   "outputs": [],
   "source": [
    "import tensorflow as tf"
   ]
  },
  {
   "cell_type": "code",
   "execution_count": 13,
   "id": "afa0ab49",
   "metadata": {},
   "outputs": [
    {
     "data": {
      "text/plain": [
       "'2.16.1'"
      ]
     },
     "execution_count": 13,
     "metadata": {},
     "output_type": "execute_result"
    }
   ],
   "source": [
    "tf.__version__"
   ]
  },
  {
   "cell_type": "markdown",
   "id": "9c019e27",
   "metadata": {},
   "source": [
    "# Constants"
   ]
  },
  {
   "cell_type": "code",
   "execution_count": 14,
   "id": "a938e65b",
   "metadata": {},
   "outputs": [],
   "source": [
    "hello =tf.constant(\"Hello\")"
   ]
  },
  {
   "cell_type": "code",
   "execution_count": 15,
   "id": "8e19ce49",
   "metadata": {},
   "outputs": [
    {
     "name": "stdout",
     "output_type": "stream",
     "text": [
      "tf.Tensor(b'Hello', shape=(), dtype=string)\n"
     ]
    }
   ],
   "source": [
    "print(hello)"
   ]
  },
  {
   "cell_type": "code",
   "execution_count": 16,
   "id": "00bf6086",
   "metadata": {},
   "outputs": [
    {
     "name": "stdout",
     "output_type": "stream",
     "text": [
      "Hello\r\n"
     ]
    }
   ],
   "source": [
    "tf.print(hello)"
   ]
  },
  {
   "cell_type": "code",
   "execution_count": 17,
   "id": "1cb23f3c",
   "metadata": {},
   "outputs": [],
   "source": [
    "world =tf.constant(\"World\")"
   ]
  },
  {
   "cell_type": "code",
   "execution_count": 19,
   "id": "e052cba0",
   "metadata": {},
   "outputs": [
    {
     "name": "stdout",
     "output_type": "stream",
     "text": [
      "Hello World\r\n"
     ]
    }
   ],
   "source": [
    "helloworld = hello + \" \" + world\n",
    "tf.print(helloworld)"
   ]
  },
  {
   "cell_type": "code",
   "execution_count": 20,
   "id": "691e74d7",
   "metadata": {},
   "outputs": [
    {
     "name": "stdout",
     "output_type": "stream",
     "text": [
      "tf.Tensor(10, shape=(), dtype=int32) tf.Tensor(20, shape=(), dtype=int32)\n"
     ]
    }
   ],
   "source": [
    "a = tf.constant(10)\n",
    "b = tf.constant(20)\n",
    "print(a, b)"
   ]
  },
  {
   "cell_type": "code",
   "execution_count": 21,
   "id": "99850ea3",
   "metadata": {},
   "outputs": [],
   "source": [
    "a = b"
   ]
  },
  {
   "cell_type": "code",
   "execution_count": 23,
   "id": "d49b153b",
   "metadata": {},
   "outputs": [
    {
     "data": {
      "text/plain": [
       "<tf.Tensor: shape=(), dtype=int32, numpy=40>"
      ]
     },
     "execution_count": 23,
     "metadata": {},
     "output_type": "execute_result"
    }
   ],
   "source": [
    "a+b"
   ]
  },
  {
   "cell_type": "code",
   "execution_count": 25,
   "id": "2778e246",
   "metadata": {},
   "outputs": [
    {
     "name": "stdout",
     "output_type": "stream",
     "text": [
      "40\r\n"
     ]
    }
   ],
   "source": [
    "tf.print(a+b)"
   ]
  },
  {
   "cell_type": "code",
   "execution_count": 26,
   "id": "07c1b511",
   "metadata": {},
   "outputs": [],
   "source": [
    "myarr = tf.fill((5,5),5)"
   ]
  },
  {
   "cell_type": "code",
   "execution_count": 28,
   "id": "4c816348",
   "metadata": {},
   "outputs": [
    {
     "data": {
      "text/plain": [
       "<tf.Tensor: shape=(5, 5), dtype=int32, numpy=\n",
       "array([[5, 5, 5, 5, 5],\n",
       "       [5, 5, 5, 5, 5],\n",
       "       [5, 5, 5, 5, 5],\n",
       "       [5, 5, 5, 5, 5],\n",
       "       [5, 5, 5, 5, 5]])>"
      ]
     },
     "execution_count": 28,
     "metadata": {},
     "output_type": "execute_result"
    }
   ],
   "source": [
    "myarr"
   ]
  },
  {
   "cell_type": "code",
   "execution_count": 27,
   "id": "37b09747",
   "metadata": {},
   "outputs": [
    {
     "name": "stdout",
     "output_type": "stream",
     "text": [
      "[[5 5 5 5 5]\n",
      " [5 5 5 5 5]\n",
      " [5 5 5 5 5]\n",
      " [5 5 5 5 5]\n",
      " [5 5 5 5 5]]\r\n"
     ]
    }
   ],
   "source": [
    "tf.print(myarr)"
   ]
  },
  {
   "cell_type": "code",
   "execution_count": 29,
   "id": "0723b5c1",
   "metadata": {},
   "outputs": [
    {
     "data": {
      "text/plain": [
       "array([[5, 5, 5, 5, 5],\n",
       "       [5, 5, 5, 5, 5],\n",
       "       [5, 5, 5, 5, 5],\n",
       "       [5, 5, 5, 5, 5],\n",
       "       [5, 5, 5, 5, 5]])"
      ]
     },
     "execution_count": 29,
     "metadata": {},
     "output_type": "execute_result"
    }
   ],
   "source": [
    "#return tensor as numpy array\n",
    "myarr.numpy()"
   ]
  },
  {
   "cell_type": "code",
   "execution_count": 30,
   "id": "2b21ad71",
   "metadata": {},
   "outputs": [
    {
     "data": {
      "text/plain": [
       "TensorShape([5, 5])"
      ]
     },
     "execution_count": 30,
     "metadata": {},
     "output_type": "execute_result"
    }
   ],
   "source": [
    "myarr.get_shape()"
   ]
  },
  {
   "cell_type": "code",
   "execution_count": 35,
   "id": "b61a2991",
   "metadata": {},
   "outputs": [
    {
     "name": "stdout",
     "output_type": "stream",
     "text": [
      "[[1 2]\n",
      " [3 4]]\r\n"
     ]
    }
   ],
   "source": [
    "myarr1 = tf.constant([[1, 2],\n",
    "                     [3, 4]])\n",
    "tf.print(myarr1)"
   ]
  },
  {
   "cell_type": "code",
   "execution_count": 34,
   "id": "da2fc184",
   "metadata": {},
   "outputs": [
    {
     "name": "stdout",
     "output_type": "stream",
     "text": [
      "[[0.0876884535 -0.376684517 1.32821441]\n",
      " [-1.26698947 0.692535579 -1.20115948]\n",
      " [0.0934032947 0.0195678137 0.930552483]]\r\n"
     ]
    }
   ],
   "source": [
    "myarr2 = tf.random.normal((3, 3), 0, 1)\n",
    "tf.print(myarr2)"
   ]
  },
  {
   "cell_type": "markdown",
   "id": "37c5be73",
   "metadata": {},
   "source": [
    "# Variables"
   ]
  },
  {
   "cell_type": "code",
   "execution_count": 43,
   "id": "17e85070",
   "metadata": {},
   "outputs": [],
   "source": [
    "var = tf.Variable(1, dtype=tf.int32)"
   ]
  },
  {
   "cell_type": "code",
   "execution_count": 44,
   "id": "f234e88f",
   "metadata": {},
   "outputs": [
    {
     "data": {
      "text/plain": [
       "<tf.Variable 'UnreadVariable' shape=() dtype=int32, numpy=2>"
      ]
     },
     "execution_count": 44,
     "metadata": {},
     "output_type": "execute_result"
    }
   ],
   "source": [
    "var.assign(2)"
   ]
  },
  {
   "cell_type": "code",
   "execution_count": 41,
   "id": "42b62d00",
   "metadata": {},
   "outputs": [
    {
     "data": {
      "text/plain": [
       "<tf.Variable 'UnreadVariable' shape=() dtype=int32, numpy=4>"
      ]
     },
     "execution_count": 41,
     "metadata": {},
     "output_type": "execute_result"
    }
   ],
   "source": [
    "var.assign_add(2)"
   ]
  },
  {
   "cell_type": "markdown",
   "id": "b254e4eb",
   "metadata": {},
   "source": [
    "# Matrixs"
   ]
  },
  {
   "cell_type": "code",
   "execution_count": 46,
   "id": "f2c2fb8c",
   "metadata": {},
   "outputs": [],
   "source": [
    "#zero matrix\n",
    "zero_matrix = tf.zeros(shape=(3,3), dtype=tf.float32)\n",
    "ones_matrix = tf.ones(shape=(3,3), dtype=tf.float32)\n",
    "rows, columns = zero_matrix.shape\n",
    "identity_matrix = tf.eye(num_rows=rows, num_columns=columns, dtype=tf.float32)"
   ]
  },
  {
   "cell_type": "code",
   "execution_count": 47,
   "id": "f5e0af72",
   "metadata": {},
   "outputs": [
    {
     "data": {
      "text/plain": [
       "array([[0., 0., 0.],\n",
       "       [0., 0., 0.],\n",
       "       [0., 0., 0.]], dtype=float32)"
      ]
     },
     "execution_count": 47,
     "metadata": {},
     "output_type": "execute_result"
    }
   ],
   "source": [
    "zero_matrix.numpy()"
   ]
  },
  {
   "cell_type": "code",
   "execution_count": 48,
   "id": "22779967",
   "metadata": {},
   "outputs": [
    {
     "data": {
      "text/plain": [
       "array([[1., 1., 1.],\n",
       "       [1., 1., 1.],\n",
       "       [1., 1., 1.]], dtype=float32)"
      ]
     },
     "execution_count": 48,
     "metadata": {},
     "output_type": "execute_result"
    }
   ],
   "source": [
    "ones_matrix.numpy()"
   ]
  },
  {
   "cell_type": "code",
   "execution_count": 49,
   "id": "9d30f3c0",
   "metadata": {},
   "outputs": [
    {
     "data": {
      "text/plain": [
       "array([[1., 0., 0.],\n",
       "       [0., 1., 0.],\n",
       "       [0., 0., 1.]], dtype=float32)"
      ]
     },
     "execution_count": 49,
     "metadata": {},
     "output_type": "execute_result"
    }
   ],
   "source": [
    "identity_matrix.numpy()"
   ]
  },
  {
   "cell_type": "code",
   "execution_count": 51,
   "id": "b595e045",
   "metadata": {},
   "outputs": [
    {
     "data": {
      "text/plain": [
       "array([[1., 0., 0., 0., 1., 0., 0., 0., 1.]], dtype=float32)"
      ]
     },
     "execution_count": 51,
     "metadata": {},
     "output_type": "execute_result"
    }
   ],
   "source": [
    "tf.reshape(identity_matrix, shape=(1,9)).numpy()"
   ]
  },
  {
   "cell_type": "code",
   "execution_count": 59,
   "id": "f7a31e10",
   "metadata": {},
   "outputs": [
    {
     "data": {
      "text/plain": [
       "array([[1., 2., 3.],\n",
       "       [4., 5., 6.],\n",
       "       [7., 8., 9.]], dtype=float32)"
      ]
     },
     "execution_count": 59,
     "metadata": {},
     "output_type": "execute_result"
    }
   ],
   "source": [
    "mat = tf.constant([[1,2,3],\n",
    "                  [4,5,6],\n",
    "                  [7,8,9]], dtype=tf.float32)\n",
    "mat.numpy()"
   ]
  },
  {
   "cell_type": "code",
   "execution_count": 60,
   "id": "f92c8f71",
   "metadata": {},
   "outputs": [
    {
     "data": {
      "text/plain": [
       "array([[1., 4., 7.],\n",
       "       [2., 5., 8.],\n",
       "       [3., 6., 9.]], dtype=float32)"
      ]
     },
     "execution_count": 60,
     "metadata": {},
     "output_type": "execute_result"
    }
   ],
   "source": [
    "tf.transpose(mat).numpy()"
   ]
  },
  {
   "cell_type": "code",
   "execution_count": 61,
   "id": "c2a16d6d",
   "metadata": {},
   "outputs": [
    {
     "data": {
      "text/plain": [
       "array([[12., 15., 18.],\n",
       "       [12., 15., 18.],\n",
       "       [12., 15., 18.]], dtype=float32)"
      ]
     },
     "execution_count": 61,
     "metadata": {},
     "output_type": "execute_result"
    }
   ],
   "source": [
    "tf.matmul(ones_matrix, mat).numpy()"
   ]
  },
  {
   "cell_type": "code",
   "execution_count": 62,
   "id": "dcb668ee",
   "metadata": {},
   "outputs": [
    {
     "data": {
      "text/plain": [
       "array([[1., 2., 3.],\n",
       "       [4., 5., 6.],\n",
       "       [7., 8., 9.]], dtype=float32)"
      ]
     },
     "execution_count": 62,
     "metadata": {},
     "output_type": "execute_result"
    }
   ],
   "source": [
    "tf.multiply(ones_matrix, mat).numpy()"
   ]
  },
  {
   "cell_type": "markdown",
   "id": "4131964d",
   "metadata": {},
   "source": [
    "# Operations on tensorflow"
   ]
  },
  {
   "cell_type": "code",
   "execution_count": 63,
   "id": "13e7168d",
   "metadata": {},
   "outputs": [
    {
     "data": {
      "text/plain": [
       "array([15, 25, 35, 45, 55, 65, 75])"
      ]
     },
     "execution_count": 63,
     "metadata": {},
     "output_type": "execute_result"
    }
   ],
   "source": [
    "W = tf.Variable(10, dtype=tf.int32)\n",
    "b = tf.Variable(5, dtype=tf.int32)\n",
    "\n",
    "def linear_model(x):\n",
    "    return W*x+b\n",
    "\n",
    "linear_model(x=[1,2,3,4,5,6,7]).numpy()"
   ]
  },
  {
   "cell_type": "code",
   "execution_count": null,
   "id": "50161aaf",
   "metadata": {},
   "outputs": [],
   "source": []
  }
 ],
 "metadata": {
  "kernelspec": {
   "display_name": "Python 3 (ipykernel)",
   "language": "python",
   "name": "python3"
  },
  "language_info": {
   "codemirror_mode": {
    "name": "ipython",
    "version": 3
   },
   "file_extension": ".py",
   "mimetype": "text/x-python",
   "name": "python",
   "nbconvert_exporter": "python",
   "pygments_lexer": "ipython3",
   "version": "3.11.5"
  }
 },
 "nbformat": 4,
 "nbformat_minor": 5
}
