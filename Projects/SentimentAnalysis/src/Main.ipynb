{
 "cells": [
  {
   "cell_type": "code",
   "execution_count": 3,
   "id": "092574da",
   "metadata": {},
   "outputs": [],
   "source": [
    "import os\n",
    "import sys\n",
    "import re\n",
    "import pandas as pd\n",
    "from sklearn.preprocessing import LabelEncoder\n",
    "from multiprocessing import Pool, cpu_count\n",
    "import time"
   ]
  },
  {
   "cell_type": "code",
   "execution_count": 4,
   "id": "2f7dfa06",
   "metadata": {},
   "outputs": [],
   "source": [
    "sys.path.append(os.path.abspath(os.path.join(os.getcwd(), \"Features\")))\n",
    "sys.path.append(os.path.abspath(os.path.join(os.getcwd(), \"Model\")))\n",
    "sys.path.append(os.path.abspath(os.path.join(os.getcwd(), \"Data\")))"
   ]
  },
  {
   "cell_type": "code",
   "execution_count": 5,
   "id": "488cea29",
   "metadata": {},
   "outputs": [
    {
     "data": {
      "text/plain": [
       "['C:\\\\Users\\\\ravip\\\\Documents\\\\Data-Science\\\\Projects\\\\SentimentAnalysis\\\\src',\n",
       " 'C:\\\\Users\\\\ravip\\\\anaconda3\\\\python311.zip',\n",
       " 'C:\\\\Users\\\\ravip\\\\anaconda3\\\\DLLs',\n",
       " 'C:\\\\Users\\\\ravip\\\\anaconda3\\\\Lib',\n",
       " 'C:\\\\Users\\\\ravip\\\\anaconda3',\n",
       " '',\n",
       " 'C:\\\\Users\\\\ravip\\\\AppData\\\\Roaming\\\\Python\\\\Python311\\\\site-packages',\n",
       " 'C:\\\\Users\\\\ravip\\\\anaconda3\\\\Lib\\\\site-packages',\n",
       " 'C:\\\\Users\\\\ravip\\\\anaconda3\\\\Lib\\\\site-packages\\\\win32',\n",
       " 'C:\\\\Users\\\\ravip\\\\anaconda3\\\\Lib\\\\site-packages\\\\win32\\\\lib',\n",
       " 'C:\\\\Users\\\\ravip\\\\anaconda3\\\\Lib\\\\site-packages\\\\Pythonwin',\n",
       " 'C:\\\\Users\\\\ravip\\\\Documents\\\\Data-Science\\\\Projects\\\\SentimentAnalysis\\\\src\\\\Features',\n",
       " 'C:\\\\Users\\\\ravip\\\\Documents\\\\Data-Science\\\\Projects\\\\SentimentAnalysis\\\\src\\\\Model',\n",
       " 'C:\\\\Users\\\\ravip\\\\Documents\\\\Data-Science\\\\Projects\\\\SentimentAnalysis\\\\src\\\\Data']"
      ]
     },
     "execution_count": 5,
     "metadata": {},
     "output_type": "execute_result"
    }
   ],
   "source": [
    "sys.path"
   ]
  },
  {
   "cell_type": "code",
   "execution_count": 6,
   "id": "8b3ffd70",
   "metadata": {},
   "outputs": [],
   "source": [
    "import LoadData as LD\n",
    "import DataPreProcessing as dp\n",
    "import Models"
   ]
  },
  {
   "cell_type": "markdown",
   "id": "602a97b9",
   "metadata": {},
   "source": [
    "# Datapreprocessing"
   ]
  },
  {
   "cell_type": "code",
   "execution_count": 7,
   "id": "8fa26b9a",
   "metadata": {},
   "outputs": [],
   "source": [
    "processed_file_path = \"../Data/Process/sample_preprocessed_data.xlsx\"\n",
    "if not os.path.exists(processed_file_path):\n",
    "    print(\"inside loop\")\n",
    "    path = '../Data/Raw/IMDB Dataset sample.csv'\n",
    "    df = LD.load_data(path)\n",
    "    df['review'] = df['review'].apply(lambda x: re.sub(r'<br /><br />', '', x))\n",
    "    df['review'] = df['review'].apply(lambda x: re.sub(r'\\'', '', x))\n",
    "    df['cleaned_review'] = df['review'].apply(lambda x: dp.preprocess_text(x))\n",
    "    df.to_excel(processed_file_path, index=False)"
   ]
  },
  {
   "cell_type": "markdown",
   "id": "4ec90b53",
   "metadata": {},
   "source": [
    "# vectorization and modeling"
   ]
  },
  {
   "cell_type": "code",
   "execution_count": 8,
   "id": "bc0efcca",
   "metadata": {},
   "outputs": [],
   "source": [
    "df = pd.read_excel(\"../Data/Process/sample_preprocessed_data.xlsx\")\n",
    "vectorizer_dict = [\n",
    "#     {'vectorizer':'count', 'review_column': 'cleaned_review','pretrained':None},\n",
    "#               {'vectorizer':'tf-idf', 'review_column': 'cleaned_review','pretrained':None},\n",
    "#               {'vectorizer':'word2vec', 'review_column': 'cleaned_review','pretrained':False},\n",
    "#               {'vectorizer':'fasttext', 'review_column': 'cleaned_review','pretrained':False},\n",
    "#               {'vectorizer':'word2vec', 'review_column': 'cleaned_review','pretrained':True},\n",
    "#               {'vectorizer':'fasttext', 'review_column': 'cleaned_review','pretrained':True},\n",
    "#                    {'vectorizer':'word2vec', 'review_column': 'review','pretrained':False},\n",
    "#               {'vectorizer':'fasttext', 'review_column': 'review','pretrained':False},\n",
    "              {'vectorizer':'word2vec', 'review_column': 'review','pretrained':True},\n",
    "#               {'vectorizer':'fasttext', 'review_column': 'review','pretrained':True},\n",
    "                  ]\n",
    "\n",
    "models = {\n",
    "# 'Logistic Regression',\n",
    "# 'Multinomial Naive Bayes',\n",
    "'Decision Tree',\n",
    "# 'Random Forest',\n",
    "# 'SVC',\n",
    "# 'KNN'\n",
    "}"
   ]
  },
  {
   "cell_type": "code",
   "execution_count": 9,
   "id": "d5f4a216",
   "metadata": {},
   "outputs": [
    {
     "data": {
      "text/plain": [
       "8"
      ]
     },
     "execution_count": 9,
     "metadata": {},
     "output_type": "execute_result"
    }
   ],
   "source": [
    "cpu_count()"
   ]
  },
  {
   "cell_type": "code",
   "execution_count": null,
   "id": "de824777",
   "metadata": {},
   "outputs": [],
   "source": [
    "# Function to process a single combination of vectorizer and model\n",
    "def process_combination(params):\n",
    "    dic, model_name, df = params\n",
    "    df_ = dp.vectorization(df, vectorizer=dic['vectorizer'], review_column=dic['review_column'], pretrained=dic['pretrained'])\n",
    "    X_train, X_test, y_train, y_test = Models.train_test_data_split(df_)\n",
    "    Models.fit_models(X_train, y_train, model_name, dic['vectorizer'])\n",
    "    accuracy, precision, recall, f1 = Models.predict_models_summary(X_test, y_test, model_name, dic['vectorizer'])\n",
    "    return dic['vectorizer'], model_name, accuracy, precision, recall, f1\n",
    "\n",
    "# Prepare parameters for multiprocessing\n",
    "params = [(dic, model_name, df) for dic in vectorizer_dict for model_name in models]\n",
    "\n",
    "# Use multiprocessing to process combinations\n",
    "if __name__ == '__main__':\n",
    "    t = time.time()\n",
    "    with Pool(cpu_count() - 1) as pool:\n",
    "        results = pool.map(process_combination, params)\n",
    "\n",
    "    # Create summary DataFrame\n",
    "    df_summary = pd.DataFrame(results, columns=['vectorizer', 'model_name', 'accuracy', 'precision', 'recall', 'f1'])\n",
    "\n",
    "    print(\"Done in:\", time.time() - t)\n",
    "    print(df_summary)"
   ]
  },
  {
   "cell_type": "code",
   "execution_count": null,
   "id": "f2322df0",
   "metadata": {},
   "outputs": [],
   "source": [
    "df_summary"
   ]
  },
  {
   "cell_type": "code",
   "execution_count": null,
   "id": "7dca5797",
   "metadata": {},
   "outputs": [],
   "source": []
  },
  {
   "cell_type": "code",
   "execution_count": null,
   "id": "c836faf0",
   "metadata": {},
   "outputs": [],
   "source": []
  }
 ],
 "metadata": {
  "kernelspec": {
   "display_name": "Python 3 (ipykernel)",
   "language": "python",
   "name": "python3"
  },
  "language_info": {
   "codemirror_mode": {
    "name": "ipython",
    "version": 3
   },
   "file_extension": ".py",
   "mimetype": "text/x-python",
   "name": "python",
   "nbconvert_exporter": "python",
   "pygments_lexer": "ipython3",
   "version": "3.11.5"
  }
 },
 "nbformat": 4,
 "nbformat_minor": 5
}
