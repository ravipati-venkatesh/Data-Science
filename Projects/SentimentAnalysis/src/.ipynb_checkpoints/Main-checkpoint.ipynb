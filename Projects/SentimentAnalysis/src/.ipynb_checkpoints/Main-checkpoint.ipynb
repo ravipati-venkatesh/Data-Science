{
 "cells": [
  {
   "cell_type": "code",
   "execution_count": 34,
   "id": "092574da",
   "metadata": {},
   "outputs": [],
   "source": [
    "import os\n",
    "import sys\n",
    "import re\n",
    "import pandas as pd\n",
    "from sklearn.preprocessing import LabelEncoder"
   ]
  },
  {
   "cell_type": "code",
   "execution_count": 35,
   "id": "2f7dfa06",
   "metadata": {},
   "outputs": [],
   "source": [
    "sys.path.append(os.path.abspath(os.path.join(os.path.dirname(os.getcwd()), \"src\\\\Features\")))\n",
    "sys.path.append(os.path.abspath(os.path.join(os.path.dirname(os.getcwd()), \"src\\\\Model\")))\n",
    "sys.path.append(os.path.abspath(os.path.join(os.path.dirname(os.getcwd()), \"src\\\\Data\")))"
   ]
  },
  {
   "cell_type": "code",
   "execution_count": 36,
   "id": "e9bae313",
   "metadata": {},
   "outputs": [
    {
     "data": {
      "text/plain": [
       "['C:\\\\Users\\\\ravip\\\\Documents\\\\Data-Science\\\\Projects\\\\SentimentAnalysis\\\\src',\n",
       " 'C:\\\\Users\\\\ravip\\\\anaconda3\\\\python311.zip',\n",
       " 'C:\\\\Users\\\\ravip\\\\anaconda3\\\\DLLs',\n",
       " 'C:\\\\Users\\\\ravip\\\\anaconda3\\\\Lib',\n",
       " 'C:\\\\Users\\\\ravip\\\\anaconda3',\n",
       " '',\n",
       " 'C:\\\\Users\\\\ravip\\\\AppData\\\\Roaming\\\\Python\\\\Python311\\\\site-packages',\n",
       " 'C:\\\\Users\\\\ravip\\\\anaconda3\\\\Lib\\\\site-packages',\n",
       " 'C:\\\\Users\\\\ravip\\\\anaconda3\\\\Lib\\\\site-packages\\\\win32',\n",
       " 'C:\\\\Users\\\\ravip\\\\anaconda3\\\\Lib\\\\site-packages\\\\win32\\\\lib',\n",
       " 'C:\\\\Users\\\\ravip\\\\anaconda3\\\\Lib\\\\site-packages\\\\Pythonwin',\n",
       " 'C:\\\\Users\\\\ravip\\\\Documents\\\\Data-Science\\\\Projects\\\\SentimentAnalysis\\\\Features',\n",
       " 'C:\\\\Users\\\\ravip\\\\Documents\\\\Data-Science\\\\Projects\\\\SentimentAnalysis\\\\Model',\n",
       " 'C:\\\\Users\\\\ravip\\\\Documents\\\\Data-Science\\\\Projects\\\\SentimentAnalysis\\\\Features',\n",
       " 'C:\\\\Users\\\\ravip\\\\Documents\\\\Data-Science\\\\Projects\\\\SentimentAnalysis\\\\Model',\n",
       " 'C:\\\\Users\\\\ravip\\\\Documents\\\\Data-Science\\\\Projects\\\\SentimentAnalysis\\\\src\\\\Features',\n",
       " 'C:\\\\Users\\\\ravip\\\\Documents\\\\Data-Science\\\\Projects\\\\SentimentAnalysis\\\\src\\\\Model',\n",
       " 'C:\\\\Users\\\\ravip\\\\Documents\\\\Data-Science\\\\Projects\\\\SentimentAnalysis\\\\Data',\n",
       " 'C:\\\\Users\\\\ravip\\\\Documents\\\\Data-Science\\\\Projects\\\\SentimentAnalysis\\\\src\\\\Features',\n",
       " 'C:\\\\Users\\\\ravip\\\\Documents\\\\Data-Science\\\\Projects\\\\SentimentAnalysis\\\\src\\\\Model',\n",
       " 'C:\\\\Users\\\\ravip\\\\Documents\\\\Data-Science\\\\Projects\\\\SentimentAnalysis\\\\src\\\\Data',\n",
       " 'C:\\\\Users\\\\ravip\\\\Documents\\\\Data-Science\\\\Projects\\\\SentimentAnalysis\\\\src\\\\Features',\n",
       " 'C:\\\\Users\\\\ravip\\\\Documents\\\\Data-Science\\\\Projects\\\\SentimentAnalysis\\\\src\\\\Model',\n",
       " 'C:\\\\Users\\\\ravip\\\\Documents\\\\Data-Science\\\\Projects\\\\SentimentAnalysis\\\\src\\\\Data',\n",
       " 'C:\\\\Users\\\\ravip\\\\Documents\\\\Data-Science\\\\Projects\\\\SentimentAnalysis\\\\src\\\\Features',\n",
       " 'C:\\\\Users\\\\ravip\\\\Documents\\\\Data-Science\\\\Projects\\\\SentimentAnalysis\\\\src\\\\Model',\n",
       " 'C:\\\\Users\\\\ravip\\\\Documents\\\\Data-Science\\\\Projects\\\\SentimentAnalysis\\\\src\\\\Data']"
      ]
     },
     "execution_count": 36,
     "metadata": {},
     "output_type": "execute_result"
    }
   ],
   "source": [
    "sys.path"
   ]
  },
  {
   "cell_type": "code",
   "execution_count": 37,
   "id": "8b3ffd70",
   "metadata": {},
   "outputs": [],
   "source": [
    "import LoadData as LD\n",
    "import DataPreProcessing as dp\n",
    "import Model"
   ]
  },
  {
   "cell_type": "markdown",
   "id": "5a90d59b",
   "metadata": {},
   "source": [
    "# Datapreprocessing"
   ]
  },
  {
   "cell_type": "code",
   "execution_count": 24,
   "id": "dadfc8e9",
   "metadata": {},
   "outputs": [],
   "source": [
    "path = '../Data/Raw/IMDB Dataset sample.csv'\n",
    "df = LD.load_data(path)\n",
    "df['review'] = df['review'].apply(lambda x: re.sub(r'<br /><br />', '', x))\n",
    "df['review'] = df['review'].apply(lambda x: re.sub(r'\\'', '', x))\n",
    "df['cleaned_review'] = df['review'].apply(lambda x: dp.preprocess_text(x))\n",
    "df.to_excel(\"../Data/Process/sample_preprocessed_data.xlsx\", index=False)"
   ]
  },
  {
   "cell_type": "markdown",
   "id": "c644644c",
   "metadata": {},
   "source": [
    "# vectorization and modeling"
   ]
  },
  {
   "cell_type": "code",
   "execution_count": 40,
   "id": "4dbea435",
   "metadata": {},
   "outputs": [],
   "source": [
    "df = pd.read_excel(\"../Data/Process/sample_preprocessed_data.xlsx\")\n",
    "vectorizer_dict = [{'vectorizer':'count', 'review_column': 'cleaned_review','pretrained':None},\n",
    "              {'vectorizer':'tf-idf', 'review_column': 'cleaned_review','pretrained':None},\n",
    "              {'vectorizer':'word2vec', 'review_column': 'cleaned_review','pretrained':False},\n",
    "              {'vectorizer':'fasttext', 'review_column': 'cleaned_review','pretrained':False},\n",
    "              {'vectorizer':'word2vec', 'review_column': 'cleaned_review','pretrained':True},\n",
    "              {'vectorizer':'fasttext', 'review_column': 'cleaned_review','pretrained':True},\n",
    "                   {'vectorizer':'word2vec', 'review_column': 'review','pretrained':False},\n",
    "              {'vectorizer':'fasttext', 'review_column': 'review','pretrained':False},\n",
    "              {'vectorizer':'word2vec', 'review_column': 'review','pretrained':True},\n",
    "              {'vectorizer':'fasttext', 'review_column': 'review','pretrained':True},\n",
    "                  ]\n",
    "\n",
    "models = {\n",
    "'Logistic Regression',\n",
    "'Gaussian Naive Bayes',\n",
    "'Multinomial Naive Bayes',\n",
    "'Decision Tree',\n",
    "'Random Forest',\n",
    "'SVC',\n",
    "'KNN'\n",
    "}"
   ]
  },
  {
   "cell_type": "code",
   "execution_count": 42,
   "id": "a430cb9b",
   "metadata": {},
   "outputs": [
    {
     "ename": "KeyError",
     "evalue": "'cleaned_review'",
     "output_type": "error",
     "traceback": [
      "\u001b[1;31m---------------------------------------------------------------------------\u001b[0m",
      "\u001b[1;31mKeyError\u001b[0m                                  Traceback (most recent call last)",
      "File \u001b[1;32m~\\anaconda3\\Lib\\site-packages\\pandas\\core\\indexes\\base.py:3653\u001b[0m, in \u001b[0;36mIndex.get_loc\u001b[1;34m(self, key)\u001b[0m\n\u001b[0;32m   3652\u001b[0m \u001b[38;5;28;01mtry\u001b[39;00m:\n\u001b[1;32m-> 3653\u001b[0m     \u001b[38;5;28;01mreturn\u001b[39;00m \u001b[38;5;28mself\u001b[39m\u001b[38;5;241m.\u001b[39m_engine\u001b[38;5;241m.\u001b[39mget_loc(casted_key)\n\u001b[0;32m   3654\u001b[0m \u001b[38;5;28;01mexcept\u001b[39;00m \u001b[38;5;167;01mKeyError\u001b[39;00m \u001b[38;5;28;01mas\u001b[39;00m err:\n",
      "File \u001b[1;32m~\\anaconda3\\Lib\\site-packages\\pandas\\_libs\\index.pyx:147\u001b[0m, in \u001b[0;36mpandas._libs.index.IndexEngine.get_loc\u001b[1;34m()\u001b[0m\n",
      "File \u001b[1;32m~\\anaconda3\\Lib\\site-packages\\pandas\\_libs\\index.pyx:176\u001b[0m, in \u001b[0;36mpandas._libs.index.IndexEngine.get_loc\u001b[1;34m()\u001b[0m\n",
      "File \u001b[1;32mpandas\\_libs\\hashtable_class_helper.pxi:7080\u001b[0m, in \u001b[0;36mpandas._libs.hashtable.PyObjectHashTable.get_item\u001b[1;34m()\u001b[0m\n",
      "File \u001b[1;32mpandas\\_libs\\hashtable_class_helper.pxi:7088\u001b[0m, in \u001b[0;36mpandas._libs.hashtable.PyObjectHashTable.get_item\u001b[1;34m()\u001b[0m\n",
      "\u001b[1;31mKeyError\u001b[0m: 'cleaned_review'",
      "\nThe above exception was the direct cause of the following exception:\n",
      "\u001b[1;31mKeyError\u001b[0m                                  Traceback (most recent call last)",
      "Cell \u001b[1;32mIn[42], line 6\u001b[0m\n\u001b[0;32m      4\u001b[0m index\u001b[38;5;241m=\u001b[39m\u001b[38;5;241m0\u001b[39m\n\u001b[0;32m      5\u001b[0m \u001b[38;5;28;01mfor\u001b[39;00m dic \u001b[38;5;129;01min\u001b[39;00m vectorizer_dict:\n\u001b[1;32m----> 6\u001b[0m     df \u001b[38;5;241m=\u001b[39m dp\u001b[38;5;241m.\u001b[39mvectorization(df, vectorizer\u001b[38;5;241m=\u001b[39mdic[\u001b[38;5;124m'\u001b[39m\u001b[38;5;124mvectorizer\u001b[39m\u001b[38;5;124m'\u001b[39m], review_column\u001b[38;5;241m=\u001b[39mdic[\u001b[38;5;124m'\u001b[39m\u001b[38;5;124mreview_column\u001b[39m\u001b[38;5;124m'\u001b[39m], pretrained\u001b[38;5;241m=\u001b[39mdic[\u001b[38;5;124m'\u001b[39m\u001b[38;5;124mpretrained\u001b[39m\u001b[38;5;124m'\u001b[39m])\n\u001b[0;32m      7\u001b[0m     (X_train, X_test, y_train, y_test) \u001b[38;5;241m=\u001b[39m dp\u001b[38;5;241m.\u001b[39mtrain_test_split(df)\n\u001b[0;32m      8\u001b[0m     \u001b[38;5;28;01mfor\u001b[39;00m model_name \u001b[38;5;129;01min\u001b[39;00m models:\n",
      "File \u001b[1;32m~\\Documents\\Data-Science\\Projects\\SentimentAnalysis\\src\\Features\\DataPreProcessing.py:145\u001b[0m, in \u001b[0;36mvectorization\u001b[1;34m(df, vectorizer, review_column, pretrained)\u001b[0m\n\u001b[0;32m    143\u001b[0m     if len(word_vectors) == 0:  # Handle empty word_vectors case\n\u001b[0;32m    144\u001b[0m         return np.zeros(model.vector_size)\n\u001b[1;32m--> 145\u001b[0m     return np.mean(word_vectors, axis=0)\n\u001b[0;32m    146\u001b[0m \n\u001b[0;32m    147\u001b[0m # Apply tokenization to each review\n",
      "File \u001b[1;32m~\\anaconda3\\Lib\\site-packages\\pandas\\core\\frame.py:3761\u001b[0m, in \u001b[0;36mDataFrame.__getitem__\u001b[1;34m(self, key)\u001b[0m\n\u001b[0;32m   3759\u001b[0m \u001b[38;5;28;01mif\u001b[39;00m \u001b[38;5;28mself\u001b[39m\u001b[38;5;241m.\u001b[39mcolumns\u001b[38;5;241m.\u001b[39mnlevels \u001b[38;5;241m>\u001b[39m \u001b[38;5;241m1\u001b[39m:\n\u001b[0;32m   3760\u001b[0m     \u001b[38;5;28;01mreturn\u001b[39;00m \u001b[38;5;28mself\u001b[39m\u001b[38;5;241m.\u001b[39m_getitem_multilevel(key)\n\u001b[1;32m-> 3761\u001b[0m indexer \u001b[38;5;241m=\u001b[39m \u001b[38;5;28mself\u001b[39m\u001b[38;5;241m.\u001b[39mcolumns\u001b[38;5;241m.\u001b[39mget_loc(key)\n\u001b[0;32m   3762\u001b[0m \u001b[38;5;28;01mif\u001b[39;00m is_integer(indexer):\n\u001b[0;32m   3763\u001b[0m     indexer \u001b[38;5;241m=\u001b[39m [indexer]\n",
      "File \u001b[1;32m~\\anaconda3\\Lib\\site-packages\\pandas\\core\\indexes\\base.py:3655\u001b[0m, in \u001b[0;36mIndex.get_loc\u001b[1;34m(self, key)\u001b[0m\n\u001b[0;32m   3653\u001b[0m     \u001b[38;5;28;01mreturn\u001b[39;00m \u001b[38;5;28mself\u001b[39m\u001b[38;5;241m.\u001b[39m_engine\u001b[38;5;241m.\u001b[39mget_loc(casted_key)\n\u001b[0;32m   3654\u001b[0m \u001b[38;5;28;01mexcept\u001b[39;00m \u001b[38;5;167;01mKeyError\u001b[39;00m \u001b[38;5;28;01mas\u001b[39;00m err:\n\u001b[1;32m-> 3655\u001b[0m     \u001b[38;5;28;01mraise\u001b[39;00m \u001b[38;5;167;01mKeyError\u001b[39;00m(key) \u001b[38;5;28;01mfrom\u001b[39;00m \u001b[38;5;21;01merr\u001b[39;00m\n\u001b[0;32m   3656\u001b[0m \u001b[38;5;28;01mexcept\u001b[39;00m \u001b[38;5;167;01mTypeError\u001b[39;00m:\n\u001b[0;32m   3657\u001b[0m     \u001b[38;5;66;03m# If we have a listlike key, _check_indexing_error will raise\u001b[39;00m\n\u001b[0;32m   3658\u001b[0m     \u001b[38;5;66;03m#  InvalidIndexError. Otherwise we fall through and re-raise\u001b[39;00m\n\u001b[0;32m   3659\u001b[0m     \u001b[38;5;66;03m#  the TypeError.\u001b[39;00m\n\u001b[0;32m   3660\u001b[0m     \u001b[38;5;28mself\u001b[39m\u001b[38;5;241m.\u001b[39m_check_indexing_error(key)\n",
      "\u001b[1;31mKeyError\u001b[0m: 'cleaned_review'"
     ]
    }
   ],
   "source": [
    "label_encoder = LabelEncoder()\n",
    "df['sentiment_encoded'] = label_encoder.fit_transform(df['sentiment'])\n",
    "df_summary = pd.DataFrame(columns=['vectorizer', 'model_name', 'accuracy', 'precision', 'recall', 'f1'])\n",
    "index=0\n",
    "for dic in vectorizer_dict:\n",
    "    df = dp.vectorization(df, vectorizer=dic['vectorizer'], review_column=dic['review_column'], pretrained=dic['pretrained'])\n",
    "    (X_train, X_test, y_train, y_test) = dp.train_test_split(df)\n",
    "    for model_name in models:\n",
    "        Model.fit_models(X_train, y_train, model_name)\n",
    "        accuracy, precision, recall, f1 = Model.predict_models_summary(X_test, y_test, model_name)\n",
    "        df_summary.loc[index] = [dic['vectorizer'], model_name, accuracy, precision, recall, f1]\n",
    "        index+=1\n",
    "        print(index)"
   ]
  },
  {
   "cell_type": "code",
   "execution_count": null,
   "id": "f03e0bf8",
   "metadata": {},
   "outputs": [],
   "source": [
    "df_summary"
   ]
  },
  {
   "cell_type": "code",
   "execution_count": null,
   "id": "1a8de67b",
   "metadata": {},
   "outputs": [],
   "source": []
  },
  {
   "cell_type": "code",
   "execution_count": null,
   "id": "e272fa66",
   "metadata": {},
   "outputs": [],
   "source": []
  }
 ],
 "metadata": {
  "kernelspec": {
   "display_name": "Python 3 (ipykernel)",
   "language": "python",
   "name": "python3"
  },
  "language_info": {
   "codemirror_mode": {
    "name": "ipython",
    "version": 3
   },
   "file_extension": ".py",
   "mimetype": "text/x-python",
   "name": "python",
   "nbconvert_exporter": "python",
   "pygments_lexer": "ipython3",
   "version": "3.11.5"
  }
 },
 "nbformat": 4,
 "nbformat_minor": 5
}
