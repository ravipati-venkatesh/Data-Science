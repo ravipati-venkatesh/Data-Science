{
 "cells": [
  {
   "cell_type": "code",
   "execution_count": 65,
   "id": "08c5c09f",
   "metadata": {},
   "outputs": [],
   "source": [
    "from tensorflow.keras.preprocessing.text import Tokenizer\n",
    "from tensorflow.keras.preprocessing.sequence import pad_sequences\n",
    "from tensorflow.keras.models import Sequential\n",
    "from tensorflow.keras.layers import Embedding, LSTM, GRU, RNN, Dense, BatchNormalization, SimpleRNN\n",
    "import pandas as pd\n",
    "from sklearn.model_selection import train_test_split\n",
    "from sklearn.preprocessing import LabelEncoder"
   ]
  },
  {
   "cell_type": "code",
   "execution_count": 66,
   "id": "4298f904",
   "metadata": {},
   "outputs": [],
   "source": [
    "def preprocess_data(df):\n",
    "    label_encoder = LabelEncoder()\n",
    "    df['sentiment_encoded'] = label_encoder.fit_transform(df['sentiment'])\n",
    "    X_train, X_test, y_train, y_test = train_test_split(df['review'], df['sentiment_encoded'], test_size=0.2, random_state=42)\n",
    "    tokenizer = Tokenizer()\n",
    "    tokenizer.fit_on_texts(X_train.values)\n",
    "    X_train_seq = tokenizer.texts_to_sequences(X_train.values)\n",
    "    X_test_seq = tokenizer.texts_to_sequences(X_test.values)\n",
    "    maxlen = max([item for sublist in X_train_seq for item in sublist])\n",
    "    # Pad the sequences to the same length\n",
    "    X_train_pad = pad_sequences(X_train_seq, maxlen=maxlen)\n",
    "    X_test_pad = pad_sequences(X_test_seq, maxlen=maxlen)\n",
    "    return X_train_pad, X_test_pad, y_train, y_test, label_encoder, maxlen"
   ]
  },
  {
   "cell_type": "code",
   "execution_count": 67,
   "id": "56c70bb9",
   "metadata": {},
   "outputs": [],
   "source": [
    "def model_def_and_compile(model_name, maxlen):\n",
    "    \n",
    "    # Define the model\n",
    "    model = Sequential()\n",
    "    model.add(Embedding(input_dim=maxlen+1, output_dim=100))\n",
    "    model.add(BatchNormalization())\n",
    "    \n",
    "    if model_name == \"LSTM\":\n",
    "        model.add(LSTM(200, dropout=0.2, recurrent_dropout=0.2, return_sequences=False))\n",
    "    elif model_name == \"GRU\":\n",
    "        model.add(GRU(200, dropout=0.2, recurrent_dropout=0.2, return_sequences=False))\n",
    "    elif model_name == \"RNN\":\n",
    "        model.add(SimpleRNN(200, dropout=0.2, recurrent_dropout=0.2, return_sequences=False))\n",
    "        \n",
    "    model.add(BatchNormalization())\n",
    "    model.add(Dense(1, activation='sigmoid'))\n",
    "    \n",
    "    # Compile the model\n",
    "    model.compile(optimizer='adam', loss='binary_crossentropy', metrics=['accuracy'])\n",
    "    \n",
    "    return model"
   ]
  },
  {
   "cell_type": "code",
   "execution_count": 68,
   "id": "5b78562d",
   "metadata": {},
   "outputs": [],
   "source": [
    "def predict_sentiment(model, X_test_pad, y_test):\n",
    "\n",
    "    y_pred = model.predict(X_test_pad)\n",
    "    accuracy = accuracy_score(y_test, y_pred)\n",
    "    precision = precision_score(y_test, y_pred)\n",
    "    recall = recall_score(y_test, y_pred)\n",
    "    f1 = f1_score(y_test, y_pred)\n",
    "    \n",
    "    return accuracy, precision, recall, f1"
   ]
  },
  {
   "cell_type": "code",
   "execution_count": null,
   "id": "26191f39",
   "metadata": {},
   "outputs": [
    {
     "name": "stdout",
     "output_type": "stream",
     "text": [
      "36918\n",
      "Epoch 1/5\n"
     ]
    }
   ],
   "source": [
    "\n",
    "model_names = ['LSTM', 'RNN', 'GRU']\n",
    "\n",
    "if __name__ == '__main__':\n",
    "    \n",
    "    # preprocessing  Data path\n",
    "    processed_file_path = \"../Data/Process/sample_preprocessed_data.xlsx\"\n",
    "    \n",
    "    # Load preprocessed data\n",
    "    df = pd.read_excel(processed_file_path)\n",
    "    X_train_pad, X_test_pad, y_train, y_test, label_encoder, maxlen = preprocess_data(df)\n",
    "    \n",
    "    results = []\n",
    "    for model_name in model_names:\n",
    "        model = model_def_and_compile(model_name, maxlen)\n",
    "        print(maxlen)\n",
    "        # Train the model\n",
    "        model.fit(X_train_pad, y_train, epochs=5, batch_size=32)\n",
    "        \n",
    "        accuracy, precision, recall, f1  = predict_sentiment(model, X_test_pad, y_test)\n",
    "        results.append([model_name, accuracy, precision, recall, f1])\n",
    "        \n",
    "    df_summary = pd.DataFrame(results, columns=['model_name', 'accuracy', 'precision', 'recall', 'f1'])\n",
    "    summary_file_path = f'../Data/Process/deep_learning.xlsx'\n",
    "    df_summary.to_excel(summary_file_path, index=False)\n",
    "        \n",
    "    "
   ]
  },
  {
   "cell_type": "code",
   "execution_count": null,
   "id": "5ea1b5f1",
   "metadata": {},
   "outputs": [],
   "source": []
  }
 ],
 "metadata": {
  "kernelspec": {
   "display_name": "Python 3 (ipykernel)",
   "language": "python",
   "name": "python3"
  },
  "language_info": {
   "codemirror_mode": {
    "name": "ipython",
    "version": 3
   },
   "file_extension": ".py",
   "mimetype": "text/x-python",
   "name": "python",
   "nbconvert_exporter": "python",
   "pygments_lexer": "ipython3",
   "version": "3.11.5"
  }
 },
 "nbformat": 4,
 "nbformat_minor": 5
}
