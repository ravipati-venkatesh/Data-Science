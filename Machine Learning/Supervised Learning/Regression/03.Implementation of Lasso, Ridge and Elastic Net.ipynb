{
 "cells": [
  {
   "cell_type": "code",
   "execution_count": 65,
   "id": "d5bdae72",
   "metadata": {},
   "outputs": [],
   "source": [
    "from sklearn.linear_model import Lasso, Ridge, ElasticNet\n",
    "from sklearn.model_selection import train_test_split\n",
    "import pandas as pd\n",
    "import math\n",
    "import os\n",
    "data_df = pd.read_excel(os.getcwd()+\"\\Data\\house_price_modelling_data.xlsx\", index_col=0)"
   ]
  },
  {
   "cell_type": "code",
   "execution_count": 66,
   "id": "03d4b466",
   "metadata": {},
   "outputs": [
    {
     "data": {
      "text/plain": [
       "(545, 26)"
      ]
     },
     "execution_count": 66,
     "metadata": {},
     "output_type": "execute_result"
    }
   ],
   "source": [
    "data_df.shape"
   ]
  },
  {
   "cell_type": "code",
   "execution_count": 67,
   "id": "b9fb657f",
   "metadata": {},
   "outputs": [
    {
     "data": {
      "text/html": [
       "<div>\n",
       "<style scoped>\n",
       "    .dataframe tbody tr th:only-of-type {\n",
       "        vertical-align: middle;\n",
       "    }\n",
       "\n",
       "    .dataframe tbody tr th {\n",
       "        vertical-align: top;\n",
       "    }\n",
       "\n",
       "    .dataframe thead th {\n",
       "        text-align: right;\n",
       "    }\n",
       "</style>\n",
       "<table border=\"1\" class=\"dataframe\">\n",
       "  <thead>\n",
       "    <tr style=\"text-align: right;\">\n",
       "      <th></th>\n",
       "      <th>price</th>\n",
       "      <th>area</th>\n",
       "      <th>log_area</th>\n",
       "      <th>log_price</th>\n",
       "      <th>bedrooms_2</th>\n",
       "      <th>bedrooms_3</th>\n",
       "      <th>bedrooms_4</th>\n",
       "      <th>bedrooms_5</th>\n",
       "      <th>bedrooms_6</th>\n",
       "      <th>bathrooms_2</th>\n",
       "      <th>...</th>\n",
       "      <th>guestroom_yes</th>\n",
       "      <th>basement_yes</th>\n",
       "      <th>hotwaterheating_yes</th>\n",
       "      <th>airconditioning_yes</th>\n",
       "      <th>parking_1</th>\n",
       "      <th>parking_2</th>\n",
       "      <th>parking_3</th>\n",
       "      <th>prefarea_yes</th>\n",
       "      <th>furnishingstatus_semi-furnished</th>\n",
       "      <th>furnishingstatus_unfurnished</th>\n",
       "    </tr>\n",
       "  </thead>\n",
       "  <tbody>\n",
       "    <tr>\n",
       "      <th>0</th>\n",
       "      <td>13300000</td>\n",
       "      <td>7420</td>\n",
       "      <td>8.911934</td>\n",
       "      <td>16.403275</td>\n",
       "      <td>False</td>\n",
       "      <td>False</td>\n",
       "      <td>True</td>\n",
       "      <td>False</td>\n",
       "      <td>False</td>\n",
       "      <td>True</td>\n",
       "      <td>...</td>\n",
       "      <td>False</td>\n",
       "      <td>False</td>\n",
       "      <td>False</td>\n",
       "      <td>True</td>\n",
       "      <td>False</td>\n",
       "      <td>True</td>\n",
       "      <td>False</td>\n",
       "      <td>True</td>\n",
       "      <td>False</td>\n",
       "      <td>False</td>\n",
       "    </tr>\n",
       "    <tr>\n",
       "      <th>1</th>\n",
       "      <td>12250000</td>\n",
       "      <td>8960</td>\n",
       "      <td>9.100526</td>\n",
       "      <td>16.321036</td>\n",
       "      <td>False</td>\n",
       "      <td>False</td>\n",
       "      <td>True</td>\n",
       "      <td>False</td>\n",
       "      <td>False</td>\n",
       "      <td>False</td>\n",
       "      <td>...</td>\n",
       "      <td>False</td>\n",
       "      <td>False</td>\n",
       "      <td>False</td>\n",
       "      <td>True</td>\n",
       "      <td>False</td>\n",
       "      <td>False</td>\n",
       "      <td>True</td>\n",
       "      <td>False</td>\n",
       "      <td>False</td>\n",
       "      <td>False</td>\n",
       "    </tr>\n",
       "    <tr>\n",
       "      <th>2</th>\n",
       "      <td>12250000</td>\n",
       "      <td>9960</td>\n",
       "      <td>9.206332</td>\n",
       "      <td>16.321036</td>\n",
       "      <td>False</td>\n",
       "      <td>True</td>\n",
       "      <td>False</td>\n",
       "      <td>False</td>\n",
       "      <td>False</td>\n",
       "      <td>True</td>\n",
       "      <td>...</td>\n",
       "      <td>False</td>\n",
       "      <td>True</td>\n",
       "      <td>False</td>\n",
       "      <td>False</td>\n",
       "      <td>False</td>\n",
       "      <td>True</td>\n",
       "      <td>False</td>\n",
       "      <td>True</td>\n",
       "      <td>True</td>\n",
       "      <td>False</td>\n",
       "    </tr>\n",
       "    <tr>\n",
       "      <th>3</th>\n",
       "      <td>12215000</td>\n",
       "      <td>7500</td>\n",
       "      <td>8.922658</td>\n",
       "      <td>16.318175</td>\n",
       "      <td>False</td>\n",
       "      <td>False</td>\n",
       "      <td>True</td>\n",
       "      <td>False</td>\n",
       "      <td>False</td>\n",
       "      <td>True</td>\n",
       "      <td>...</td>\n",
       "      <td>False</td>\n",
       "      <td>True</td>\n",
       "      <td>False</td>\n",
       "      <td>True</td>\n",
       "      <td>False</td>\n",
       "      <td>False</td>\n",
       "      <td>True</td>\n",
       "      <td>True</td>\n",
       "      <td>False</td>\n",
       "      <td>False</td>\n",
       "    </tr>\n",
       "    <tr>\n",
       "      <th>4</th>\n",
       "      <td>11410000</td>\n",
       "      <td>7420</td>\n",
       "      <td>8.911934</td>\n",
       "      <td>16.250001</td>\n",
       "      <td>False</td>\n",
       "      <td>False</td>\n",
       "      <td>True</td>\n",
       "      <td>False</td>\n",
       "      <td>False</td>\n",
       "      <td>False</td>\n",
       "      <td>...</td>\n",
       "      <td>True</td>\n",
       "      <td>True</td>\n",
       "      <td>False</td>\n",
       "      <td>True</td>\n",
       "      <td>False</td>\n",
       "      <td>True</td>\n",
       "      <td>False</td>\n",
       "      <td>False</td>\n",
       "      <td>False</td>\n",
       "      <td>False</td>\n",
       "    </tr>\n",
       "  </tbody>\n",
       "</table>\n",
       "<p>5 rows × 26 columns</p>\n",
       "</div>"
      ],
      "text/plain": [
       "      price  area  log_area  log_price  bedrooms_2  bedrooms_3  bedrooms_4  \\\n",
       "0  13300000  7420  8.911934  16.403275       False       False        True   \n",
       "1  12250000  8960  9.100526  16.321036       False       False        True   \n",
       "2  12250000  9960  9.206332  16.321036       False        True       False   \n",
       "3  12215000  7500  8.922658  16.318175       False       False        True   \n",
       "4  11410000  7420  8.911934  16.250001       False       False        True   \n",
       "\n",
       "   bedrooms_5  bedrooms_6  bathrooms_2  ...  guestroom_yes  basement_yes  \\\n",
       "0       False       False         True  ...          False         False   \n",
       "1       False       False        False  ...          False         False   \n",
       "2       False       False         True  ...          False          True   \n",
       "3       False       False         True  ...          False          True   \n",
       "4       False       False        False  ...           True          True   \n",
       "\n",
       "   hotwaterheating_yes  airconditioning_yes  parking_1  parking_2  parking_3  \\\n",
       "0                False                 True      False       True      False   \n",
       "1                False                 True      False      False       True   \n",
       "2                False                False      False       True      False   \n",
       "3                False                 True      False      False       True   \n",
       "4                False                 True      False       True      False   \n",
       "\n",
       "   prefarea_yes  furnishingstatus_semi-furnished  furnishingstatus_unfurnished  \n",
       "0          True                            False                         False  \n",
       "1         False                            False                         False  \n",
       "2          True                             True                         False  \n",
       "3          True                            False                         False  \n",
       "4         False                            False                         False  \n",
       "\n",
       "[5 rows x 26 columns]"
      ]
     },
     "execution_count": 67,
     "metadata": {},
     "output_type": "execute_result"
    }
   ],
   "source": [
    "data_df.head()"
   ]
  },
  {
   "cell_type": "code",
   "execution_count": 68,
   "id": "65af0b99",
   "metadata": {},
   "outputs": [],
   "source": [
    "y = data_df[['log_price']]\n",
    "X = data_df.drop(columns=['price', 'log_area', 'log_price'], axis=1)\n",
    "X_train, X_test, y_train, y_test = train_test_split(X, y, test_size=0.3, random_state=1)"
   ]
  },
  {
   "cell_type": "markdown",
   "id": "6c095223",
   "metadata": {},
   "source": [
    "# Lasso Regression"
   ]
  },
  {
   "cell_type": "code",
   "execution_count": 69,
   "id": "56d400fd",
   "metadata": {},
   "outputs": [],
   "source": [
    "Lasso_model = Lasso(alpha=0.001)\n",
    "Lasso_model.fit(X_train, y_train)\n",
    "predictions = Lasso_model.predict(X_test)"
   ]
  },
  {
   "cell_type": "code",
   "execution_count": 70,
   "id": "65e1fa1c",
   "metadata": {},
   "outputs": [
    {
     "name": "stdout",
     "output_type": "stream",
     "text": [
      "0.673092845090433\n",
      "[ 4.89154304e-05 -6.02263557e-02  5.50805936e-04 -0.00000000e+00\n",
      " -0.00000000e+00  0.00000000e+00  1.84907953e-01  2.70311969e-01\n",
      "  2.24538805e-01  7.18167032e-02  1.65605444e-01  3.04680450e-01\n",
      "  1.40503563e-01  5.28843240e-02  1.26319671e-01  1.20075444e-01\n",
      "  1.15610111e-01  7.76847111e-02  9.57616112e-02  0.00000000e+00\n",
      "  9.01218324e-02  1.19465664e-03 -1.12175224e-01]\n",
      "[14.71642131]\n"
     ]
    }
   ],
   "source": [
    "print(Lasso_model.score(X_test, y_test))\n",
    "print(Lasso_model.coef_)\n",
    "print(Lasso_model.intercept_)"
   ]
  },
  {
   "cell_type": "code",
   "execution_count": 71,
   "id": "930977c6",
   "metadata": {},
   "outputs": [
    {
     "data": {
      "text/plain": [
       "Index(['area', 'bedrooms_2', 'bedrooms_3', 'bedrooms_4', 'bedrooms_5',\n",
       "       'bedrooms_6', 'bathrooms_2', 'bathrooms_3', 'bathrooms_4', 'stories_2',\n",
       "       'stories_3', 'stories_4', 'mainroad_yes', 'guestroom_yes',\n",
       "       'basement_yes', 'hotwaterheating_yes', 'airconditioning_yes',\n",
       "       'parking_1', 'parking_2', 'parking_3', 'prefarea_yes',\n",
       "       'furnishingstatus_semi-furnished', 'furnishingstatus_unfurnished'],\n",
       "      dtype='object')"
      ]
     },
     "execution_count": 71,
     "metadata": {},
     "output_type": "execute_result"
    }
   ],
   "source": [
    "X_train.columns"
   ]
  },
  {
   "cell_type": "code",
   "execution_count": 72,
   "id": "fe283206",
   "metadata": {},
   "outputs": [
    {
     "data": {
      "text/plain": [
       "{'area': 4.8915430436869966e-05,\n",
       " 'bedrooms_2': -0.06022635571588515,\n",
       " 'bedrooms_3': 0.0005508059361281347,\n",
       " 'bedrooms_4': -0.0,\n",
       " 'bedrooms_5': -0.0,\n",
       " 'bedrooms_6': 0.0,\n",
       " 'bathrooms_2': 0.1849079525827333,\n",
       " 'bathrooms_3': 0.27031196857665846,\n",
       " 'bathrooms_4': 0.22453880494840392,\n",
       " 'stories_2': 0.07181670324984919,\n",
       " 'stories_3': 0.1656054440703496,\n",
       " 'stories_4': 0.3046804497750077,\n",
       " 'mainroad_yes': 0.1405035628771688,\n",
       " 'guestroom_yes': 0.052884323951833415,\n",
       " 'basement_yes': 0.12631967134239608,\n",
       " 'hotwaterheating_yes': 0.1200754443820378,\n",
       " 'airconditioning_yes': 0.11561011075373212,\n",
       " 'parking_1': 0.07768471111652633,\n",
       " 'parking_2': 0.09576161117497418,\n",
       " 'parking_3': 0.0,\n",
       " 'prefarea_yes': 0.09012183237131789,\n",
       " 'furnishingstatus_semi-furnished': 0.0011946566385591677,\n",
       " 'furnishingstatus_unfurnished': -0.1121752244672192}"
      ]
     },
     "execution_count": 72,
     "metadata": {},
     "output_type": "execute_result"
    }
   ],
   "source": [
    "dict(map(lambda i,j : (i,j) , X_train.columns,Lasso_model.coef_))"
   ]
  },
  {
   "cell_type": "code",
   "execution_count": 73,
   "id": "12fbd392",
   "metadata": {},
   "outputs": [],
   "source": [
    "predictions = [math.exp(i) for i in predictions]\n",
    "actuals = [math.exp(i) for i in y_test['log_price']]"
   ]
  },
  {
   "cell_type": "code",
   "execution_count": 74,
   "id": "73b29bb5",
   "metadata": {},
   "outputs": [
    {
     "name": "stdout",
     "output_type": "stream",
     "text": [
      "MAPE: 0.18169745131284282\n",
      "RSQ: [0.68502881]\n"
     ]
    }
   ],
   "source": [
    "from sklearn.metrics import mean_absolute_percentage_error, r2_score\n",
    "mape = mean_absolute_percentage_error(actuals, predictions) \n",
    "rsq_ = r2_score(actuals, predictions, multioutput='raw_values') \n",
    "print(\"MAPE:\",mape)\n",
    "print(\"RSQ:\",rsq_)"
   ]
  },
  {
   "cell_type": "code",
   "execution_count": 75,
   "id": "e6a04e56",
   "metadata": {},
   "outputs": [
    {
     "name": "stdout",
     "output_type": "stream",
     "text": [
      "{'alpha': 0.002}\n",
      "-7.139200234489334\n"
     ]
    }
   ],
   "source": [
    "from sklearn.model_selection import GridSearchCV\n",
    "params = {'alpha':[0.001, 0.002, 0.003, 0.004, 0.005, 0.0009, 0.0008, 0.0007, 0.0006]}\n",
    "lasso = Lasso()\n",
    "lasso_regg = GridSearchCV(lasso, params, scoring='r2')\n",
    "lasso_regg.fit(X, y)\n",
    "print(lasso_regg.best_params_)\n",
    "print(lasso_regg.best_score_)\n",
    "predictions = lasso_regg.predict(X)"
   ]
  },
  {
   "cell_type": "code",
   "execution_count": 76,
   "id": "b78cdd83",
   "metadata": {},
   "outputs": [],
   "source": [
    "predictions = [math.exp(i) for i in predictions]\n",
    "actuals = [math.exp(i) for i in y['log_price']]"
   ]
  },
  {
   "cell_type": "code",
   "execution_count": 77,
   "id": "8e842810",
   "metadata": {},
   "outputs": [
    {
     "name": "stdout",
     "output_type": "stream",
     "text": [
      "MAPE: 0.16129853168865899\n",
      "RSQ: [0.66159876]\n"
     ]
    }
   ],
   "source": [
    "from sklearn.metrics import mean_absolute_percentage_error, r2_score\n",
    "mape = mean_absolute_percentage_error(actuals, predictions) \n",
    "rsq_ = r2_score(actuals, predictions, multioutput='raw_values') \n",
    "print(\"MAPE:\",mape)\n",
    "print(\"RSQ:\",rsq_)"
   ]
  },
  {
   "cell_type": "markdown",
   "id": "64b138fd",
   "metadata": {},
   "source": [
    "# Ridge Regression"
   ]
  },
  {
   "cell_type": "code",
   "execution_count": 78,
   "id": "d23781a0",
   "metadata": {},
   "outputs": [],
   "source": [
    "ridge_model = Ridge(alpha=0.001)\n",
    "ridge_model.fit(X_train, y_train)\n",
    "predictions = ridge_model.predict(X_test)"
   ]
  },
  {
   "cell_type": "code",
   "execution_count": 79,
   "id": "8b04c035",
   "metadata": {},
   "outputs": [
    {
     "name": "stdout",
     "output_type": "stream",
     "text": [
      "0.6717286284474142\n",
      "[[ 4.71216975e-05  3.86621974e-02  9.66006097e-02  8.19520333e-02\n",
      "   7.52383467e-02  2.47160006e-01  1.90246196e-01  3.49816498e-01\n",
      "   6.53941531e-01  7.74582029e-02  1.84767084e-01  3.13979032e-01\n",
      "   1.40959611e-01  5.92224347e-02  1.30243604e-01  1.41226020e-01\n",
      "   1.17804536e-01  8.50310456e-02  1.05773666e-01 -2.00092194e-02\n",
      "   9.77916097e-02  9.05819905e-03 -1.08748614e-01]]\n",
      "[14.60954462]\n"
     ]
    }
   ],
   "source": [
    "print(ridge_model.score(X_test, y_test))\n",
    "print(ridge_model.coef_)\n",
    "print(ridge_model.intercept_)"
   ]
  },
  {
   "cell_type": "code",
   "execution_count": 80,
   "id": "d43728c6",
   "metadata": {},
   "outputs": [
    {
     "data": {
      "text/plain": [
       "{'area': 4.7121697479347524e-05,\n",
       " 'bedrooms_2': 0.038662197394389114,\n",
       " 'bedrooms_3': 0.09660060970885312,\n",
       " 'bedrooms_4': 0.08195203325840278,\n",
       " 'bedrooms_5': 0.07523834665915784,\n",
       " 'bedrooms_6': 0.24716000619114162,\n",
       " 'bathrooms_2': 0.19024619580293248,\n",
       " 'bathrooms_3': 0.3498164977875639,\n",
       " 'bathrooms_4': 0.6539415306217282,\n",
       " 'stories_2': 0.07745820291037234,\n",
       " 'stories_3': 0.18476708400565875,\n",
       " 'stories_4': 0.3139790319673988,\n",
       " 'mainroad_yes': 0.14095961101855556,\n",
       " 'guestroom_yes': 0.05922243473085731,\n",
       " 'basement_yes': 0.13024360368856286,\n",
       " 'hotwaterheating_yes': 0.14122602004625992,\n",
       " 'airconditioning_yes': 0.11780453572984366,\n",
       " 'parking_1': 0.08503104557941907,\n",
       " 'parking_2': 0.10577366621365505,\n",
       " 'parking_3': -0.020009219385167712,\n",
       " 'prefarea_yes': 0.09779160972037981,\n",
       " 'furnishingstatus_semi-furnished': 0.009058199053076308,\n",
       " 'furnishingstatus_unfurnished': -0.10874861355040655}"
      ]
     },
     "execution_count": 80,
     "metadata": {},
     "output_type": "execute_result"
    }
   ],
   "source": [
    "dict(map(lambda i,j : (i,j) , X_train.columns,ridge_model.coef_[0]))"
   ]
  },
  {
   "cell_type": "code",
   "execution_count": 81,
   "id": "8f77d58a",
   "metadata": {},
   "outputs": [],
   "source": [
    "predictions = [math.exp(i) for i in predictions]\n",
    "actuals = [math.exp(i) for i in y_test['log_price']]"
   ]
  },
  {
   "cell_type": "code",
   "execution_count": 82,
   "id": "697d33d6",
   "metadata": {},
   "outputs": [
    {
     "name": "stdout",
     "output_type": "stream",
     "text": [
      "MAPE: 0.18206460920435308\n",
      "RSQ: [0.69063911]\n"
     ]
    }
   ],
   "source": [
    "from sklearn.metrics import mean_absolute_percentage_error, r2_score\n",
    "mape = mean_absolute_percentage_error(actuals, predictions) \n",
    "rsq_ = r2_score(actuals, predictions, multioutput='raw_values') \n",
    "print(\"MAPE:\",mape)\n",
    "print(\"RSQ:\",rsq_)"
   ]
  },
  {
   "cell_type": "code",
   "execution_count": null,
   "id": "8e952295",
   "metadata": {},
   "outputs": [],
   "source": []
  },
  {
   "cell_type": "markdown",
   "id": "f100cd4c",
   "metadata": {},
   "source": [
    "# ElasticNet Regression"
   ]
  },
  {
   "cell_type": "code",
   "execution_count": 83,
   "id": "587724bb",
   "metadata": {},
   "outputs": [],
   "source": [
    "elasticNet_model = ElasticNet(alpha=0.001)\n",
    "elasticNet_model.fit(X_train, y_train)\n",
    "predictions = elasticNet_model.predict(X_test)"
   ]
  },
  {
   "cell_type": "code",
   "execution_count": 84,
   "id": "8d1b584b",
   "metadata": {},
   "outputs": [
    {
     "name": "stdout",
     "output_type": "stream",
     "text": [
      "0.6731290797746854\n",
      "[ 4.82161080e-05 -5.20887861e-02  7.10332602e-03  0.00000000e+00\n",
      " -0.00000000e+00  5.51239975e-02  1.86687519e-01  2.98290703e-01\n",
      "  3.59042577e-01  7.52505801e-02  1.74368853e-01  3.09670477e-01\n",
      "  1.41126598e-01  5.58587540e-02  1.28034229e-01  1.29093267e-01\n",
      "  1.16964463e-01  8.15736134e-02  1.00563760e-01  0.00000000e+00\n",
      "  9.32734909e-02  4.99555554e-03 -1.10526665e-01]\n",
      "[14.70331844]\n"
     ]
    }
   ],
   "source": [
    "print(elasticNet_model.score(X_test, y_test))\n",
    "print(elasticNet_model.coef_)\n",
    "print(elasticNet_model.intercept_)"
   ]
  },
  {
   "cell_type": "code",
   "execution_count": 85,
   "id": "fa082315",
   "metadata": {},
   "outputs": [
    {
     "data": {
      "text/plain": [
       "{'area': 4.821610799375931e-05,\n",
       " 'bedrooms_2': -0.05208878609733947,\n",
       " 'bedrooms_3': 0.00710332602330247,\n",
       " 'bedrooms_4': 0.0,\n",
       " 'bedrooms_5': -0.0,\n",
       " 'bedrooms_6': 0.055123997541178006,\n",
       " 'bathrooms_2': 0.18668751914628617,\n",
       " 'bathrooms_3': 0.2982907033914447,\n",
       " 'bathrooms_4': 0.3590425770467916,\n",
       " 'stories_2': 0.07525058007743117,\n",
       " 'stories_3': 0.1743688528840901,\n",
       " 'stories_4': 0.30967047667000397,\n",
       " 'mainroad_yes': 0.14112659837330682,\n",
       " 'guestroom_yes': 0.05585875399675205,\n",
       " 'basement_yes': 0.12803422925056485,\n",
       " 'hotwaterheating_yes': 0.12909326730412024,\n",
       " 'airconditioning_yes': 0.11696446270563897,\n",
       " 'parking_1': 0.08157361343103789,\n",
       " 'parking_2': 0.100563760315542,\n",
       " 'parking_3': 0.0,\n",
       " 'prefarea_yes': 0.09327349087695862,\n",
       " 'furnishingstatus_semi-furnished': 0.004995555542005789,\n",
       " 'furnishingstatus_unfurnished': -0.11052666532672635}"
      ]
     },
     "execution_count": 85,
     "metadata": {},
     "output_type": "execute_result"
    }
   ],
   "source": [
    "dict(map(lambda i,j : (i,j) , X_train.columns,elasticNet_model.coef_))"
   ]
  },
  {
   "cell_type": "code",
   "execution_count": 86,
   "id": "5cce4165",
   "metadata": {},
   "outputs": [],
   "source": [
    "predictions = [math.exp(i) for i in predictions]\n",
    "actuals = [math.exp(i) for i in y_test['log_price']]"
   ]
  },
  {
   "cell_type": "code",
   "execution_count": 87,
   "id": "19bfdb28",
   "metadata": {},
   "outputs": [
    {
     "name": "stdout",
     "output_type": "stream",
     "text": [
      "MAPE: 0.18183099080219264\n",
      "RSQ: [0.68820883]\n"
     ]
    }
   ],
   "source": [
    "from sklearn.metrics import mean_absolute_percentage_error, r2_score\n",
    "mape = mean_absolute_percentage_error(actuals, predictions) \n",
    "\n",
    "\n",
    "print(\"MAPE:\",mape)\n",
    "print(\"RSQ:\",rsq_)"
   ]
  },
  {
   "cell_type": "code",
   "execution_count": 88,
   "id": "4fdf854e",
   "metadata": {},
   "outputs": [],
   "source": [
    "df = pd.DataFrame({'actuals':actuals, 'predictions':predictions})"
   ]
  },
  {
   "cell_type": "code",
   "execution_count": 95,
   "id": "76e7766d",
   "metadata": {},
   "outputs": [],
   "source": [
    "df = df.sort_values(by='predictions')"
   ]
  },
  {
   "cell_type": "code",
   "execution_count": 97,
   "id": "ed5537cc",
   "metadata": {},
   "outputs": [
    {
     "data": {
      "image/png": "[encoded data removed]",
      "text/plain": [
       "<Figure size 640x480 with 1 Axes>"
      ]
     },
     "metadata": {},
     "output_type": "display_data"
    }
   ],
   "source": [
    "import matplotlib.pyplot as plt\n",
    "plt.scatter([i for i in range(0, len(actuals))], df['actuals'])\n",
    "plt.plot([i for i in range(0, len(predictions))], df['predictions'])\n",
    "plt.show()"
   ]
  },
  {
   "cell_type": "code",
   "execution_count": 91,
   "id": "0ce745aa",
   "metadata": {},
   "outputs": [],
   "source": [
    "# predictions = elasticNet_model.predict(X)\n",
    "# predictions = [math.exp(i) for i in predictions]"
   ]
  },
  {
   "cell_type": "code",
   "execution_count": 92,
   "id": "45761a56",
   "metadata": {},
   "outputs": [],
   "source": [
    "# df = pd.DataFrame({'Id':[i for i in range(1, len(predictions)+1)],'SalePrice':predictions})\n",
    "# df.to_csv(r\"C:\\Users\\ravip\\OneDrive\\Documents\\New folder\\Data Science\\Machine Learning\\Linear Regression\\house_price_modelling_data_output.csv\")"
   ]
  },
  {
   "cell_type": "code",
   "execution_count": null,
   "id": "c9be74a7",
   "metadata": {},
   "outputs": [],
   "source": []
  }
 ],
 "metadata": {
  "kernelspec": {
   "display_name": "Python 3 (ipykernel)",
   "language": "python",
   "name": "python3"
  },
  "language_info": {
   "codemirror_mode": {
    "name": "ipython",
    "version": 3
   },
   "file_extension": ".py",
   "mimetype": "text/x-python",
   "name": "python",
   "nbconvert_exporter": "python",
   "pygments_lexer": "ipython3",
   "version": "3.11.5"
  }
 },
 "nbformat": 4,
 "nbformat_minor": 5
}
